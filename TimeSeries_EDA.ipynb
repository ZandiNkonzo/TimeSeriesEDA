{
  "nbformat": 4,
  "nbformat_minor": 0,
  "metadata": {
    "colab": {
      "name": "TimeSeries_EDA.ipynb",
      "provenance": []
    },
    "kernelspec": {
      "name": "python3",
      "display_name": "Python 3"
    },
    "language_info": {
      "name": "python"
    },
    "widgets": {
      "application/vnd.jupyter.widget-state+json": {
        "c9c993b63c404e88b3c9bb5c4b30439f": {
          "model_module": "@jupyter-widgets/controls",
          "model_name": "VBoxModel",
          "model_module_version": "1.5.0",
          "state": {
            "_dom_classes": [
              "widget-interact"
            ],
            "_model_module": "@jupyter-widgets/controls",
            "_model_module_version": "1.5.0",
            "_model_name": "VBoxModel",
            "_view_count": null,
            "_view_module": "@jupyter-widgets/controls",
            "_view_module_version": "1.5.0",
            "_view_name": "VBoxView",
            "box_style": "",
            "children": [
              "IPY_MODEL_b853b6032b9c45e3a00be91085abab80",
              "IPY_MODEL_9628889b8d7c4c90a4892b48e4f9e94c"
            ],
            "layout": "IPY_MODEL_50a4ac290f8849acad7200c847bcc4b9"
          }
        },
        "b853b6032b9c45e3a00be91085abab80": {
          "model_module": "@jupyter-widgets/controls",
          "model_name": "DropdownModel",
          "model_module_version": "1.5.0",
          "state": {
            "_dom_classes": [],
            "_model_module": "@jupyter-widgets/controls",
            "_model_module_version": "1.5.0",
            "_model_name": "DropdownModel",
            "_options_labels": [
              "Open",
              "High",
              "Low",
              "Close",
              "Adj Close",
              "Volume"
            ],
            "_view_count": null,
            "_view_module": "@jupyter-widgets/controls",
            "_view_module_version": "1.5.0",
            "_view_name": "DropdownView",
            "description": "column",
            "description_tooltip": null,
            "disabled": false,
            "index": 0,
            "layout": "IPY_MODEL_5fa6cfb48eae449b886c3c2f646f2472",
            "style": "IPY_MODEL_ef15b4e403a049f6b6ab8ab3dd834fcf"
          }
        },
        "9628889b8d7c4c90a4892b48e4f9e94c": {
          "model_module": "@jupyter-widgets/output",
          "model_name": "OutputModel",
          "model_module_version": "1.0.0",
          "state": {
            "_dom_classes": [],
            "_model_module": "@jupyter-widgets/output",
            "_model_module_version": "1.0.0",
            "_model_name": "OutputModel",
            "_view_count": null,
            "_view_module": "@jupyter-widgets/output",
            "_view_module_version": "1.0.0",
            "_view_name": "OutputView",
            "layout": "IPY_MODEL_b523e7d185fd44a7811193591afe5986",
            "msg_id": "",
            "outputs": [
              {
                "output_type": "display_data",
                "data": {
                  "text/plain": "<Figure size 432x288 with 1 Axes>",
                  "image/png": "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\n"
                },
                "metadata": {
                  "needs_background": "light"
                }
              },
              {
                "output_type": "display_data",
                "data": {
                  "text/plain": "(count    252.000000\n mean     296.870899\n std       48.232698\n min      207.949997\n 25%      253.695000\n 50%      295.166672\n 75%      335.700004\n max      411.470001\n Name: Open, dtype: float64,\n <matplotlib.axes._subplots.AxesSubplot at 0x7f10d607ed10>)"
                },
                "metadata": {}
              }
            ]
          }
        },
        "50a4ac290f8849acad7200c847bcc4b9": {
          "model_module": "@jupyter-widgets/base",
          "model_name": "LayoutModel",
          "model_module_version": "1.2.0",
          "state": {
            "_model_module": "@jupyter-widgets/base",
            "_model_module_version": "1.2.0",
            "_model_name": "LayoutModel",
            "_view_count": null,
            "_view_module": "@jupyter-widgets/base",
            "_view_module_version": "1.2.0",
            "_view_name": "LayoutView",
            "align_content": null,
            "align_items": null,
            "align_self": null,
            "border": null,
            "bottom": null,
            "display": null,
            "flex": null,
            "flex_flow": null,
            "grid_area": null,
            "grid_auto_columns": null,
            "grid_auto_flow": null,
            "grid_auto_rows": null,
            "grid_column": null,
            "grid_gap": null,
            "grid_row": null,
            "grid_template_areas": null,
            "grid_template_columns": null,
            "grid_template_rows": null,
            "height": null,
            "justify_content": null,
            "justify_items": null,
            "left": null,
            "margin": null,
            "max_height": null,
            "max_width": null,
            "min_height": null,
            "min_width": null,
            "object_fit": null,
            "object_position": null,
            "order": null,
            "overflow": null,
            "overflow_x": null,
            "overflow_y": null,
            "padding": null,
            "right": null,
            "top": null,
            "visibility": null,
            "width": null
          }
        },
        "5fa6cfb48eae449b886c3c2f646f2472": {
          "model_module": "@jupyter-widgets/base",
          "model_name": "LayoutModel",
          "model_module_version": "1.2.0",
          "state": {
            "_model_module": "@jupyter-widgets/base",
            "_model_module_version": "1.2.0",
            "_model_name": "LayoutModel",
            "_view_count": null,
            "_view_module": "@jupyter-widgets/base",
            "_view_module_version": "1.2.0",
            "_view_name": "LayoutView",
            "align_content": null,
            "align_items": null,
            "align_self": null,
            "border": null,
            "bottom": null,
            "display": null,
            "flex": null,
            "flex_flow": null,
            "grid_area": null,
            "grid_auto_columns": null,
            "grid_auto_flow": null,
            "grid_auto_rows": null,
            "grid_column": null,
            "grid_gap": null,
            "grid_row": null,
            "grid_template_areas": null,
            "grid_template_columns": null,
            "grid_template_rows": null,
            "height": null,
            "justify_content": null,
            "justify_items": null,
            "left": null,
            "margin": null,
            "max_height": null,
            "max_width": null,
            "min_height": null,
            "min_width": null,
            "object_fit": null,
            "object_position": null,
            "order": null,
            "overflow": null,
            "overflow_x": null,
            "overflow_y": null,
            "padding": null,
            "right": null,
            "top": null,
            "visibility": null,
            "width": null
          }
        },
        "ef15b4e403a049f6b6ab8ab3dd834fcf": {
          "model_module": "@jupyter-widgets/controls",
          "model_name": "DescriptionStyleModel",
          "model_module_version": "1.5.0",
          "state": {
            "_model_module": "@jupyter-widgets/controls",
            "_model_module_version": "1.5.0",
            "_model_name": "DescriptionStyleModel",
            "_view_count": null,
            "_view_module": "@jupyter-widgets/base",
            "_view_module_version": "1.2.0",
            "_view_name": "StyleView",
            "description_width": ""
          }
        },
        "b523e7d185fd44a7811193591afe5986": {
          "model_module": "@jupyter-widgets/base",
          "model_name": "LayoutModel",
          "model_module_version": "1.2.0",
          "state": {
            "_model_module": "@jupyter-widgets/base",
            "_model_module_version": "1.2.0",
            "_model_name": "LayoutModel",
            "_view_count": null,
            "_view_module": "@jupyter-widgets/base",
            "_view_module_version": "1.2.0",
            "_view_name": "LayoutView",
            "align_content": null,
            "align_items": null,
            "align_self": null,
            "border": null,
            "bottom": null,
            "display": null,
            "flex": null,
            "flex_flow": null,
            "grid_area": null,
            "grid_auto_columns": null,
            "grid_auto_flow": null,
            "grid_auto_rows": null,
            "grid_column": null,
            "grid_gap": null,
            "grid_row": null,
            "grid_template_areas": null,
            "grid_template_columns": null,
            "grid_template_rows": null,
            "height": null,
            "justify_content": null,
            "justify_items": null,
            "left": null,
            "margin": null,
            "max_height": null,
            "max_width": null,
            "min_height": null,
            "min_width": null,
            "object_fit": null,
            "object_position": null,
            "order": null,
            "overflow": null,
            "overflow_x": null,
            "overflow_y": null,
            "padding": null,
            "right": null,
            "top": null,
            "visibility": null,
            "width": null
          }
        },
        "b0a6ed13060c4e8c81ef5d8a28b027c2": {
          "model_module": "@jupyter-widgets/controls",
          "model_name": "VBoxModel",
          "model_module_version": "1.5.0",
          "state": {
            "_dom_classes": [
              "widget-interact"
            ],
            "_model_module": "@jupyter-widgets/controls",
            "_model_module_version": "1.5.0",
            "_model_name": "VBoxModel",
            "_view_count": null,
            "_view_module": "@jupyter-widgets/controls",
            "_view_module_version": "1.5.0",
            "_view_name": "VBoxView",
            "box_style": "",
            "children": [
              "IPY_MODEL_2e482296f5f94496868742f6b7090468",
              "IPY_MODEL_c67ad94bff9b4274a4aa14ab777e2974"
            ],
            "layout": "IPY_MODEL_24b83efe57a349049c4082b6f1b09d6e"
          }
        },
        "2e482296f5f94496868742f6b7090468": {
          "model_module": "@jupyter-widgets/controls",
          "model_name": "DropdownModel",
          "model_module_version": "1.5.0",
          "state": {
            "_dom_classes": [],
            "_model_module": "@jupyter-widgets/controls",
            "_model_module_version": "1.5.0",
            "_model_name": "DropdownModel",
            "_options_labels": [
              "Open",
              "High",
              "Low",
              "Close",
              "Adj Close",
              "Volume"
            ],
            "_view_count": null,
            "_view_module": "@jupyter-widgets/controls",
            "_view_module_version": "1.5.0",
            "_view_name": "DropdownView",
            "description": "column",
            "description_tooltip": null,
            "disabled": false,
            "index": 1,
            "layout": "IPY_MODEL_199f94dda9724548883304976a75cf47",
            "style": "IPY_MODEL_cc6b398bff9c4899bee4eb4a4b58506a"
          }
        },
        "c67ad94bff9b4274a4aa14ab777e2974": {
          "model_module": "@jupyter-widgets/output",
          "model_name": "OutputModel",
          "model_module_version": "1.0.0",
          "state": {
            "_dom_classes": [],
            "_model_module": "@jupyter-widgets/output",
            "_model_module_version": "1.0.0",
            "_model_name": "OutputModel",
            "_view_count": null,
            "_view_module": "@jupyter-widgets/output",
            "_view_module_version": "1.0.0",
            "_view_name": "OutputView",
            "layout": "IPY_MODEL_a962e15b23fd4bebbea7d068cbb0f06e",
            "msg_id": "",
            "outputs": [
              {
                "output_type": "display_data",
                "data": {
                  "text/plain": "<Figure size 864x288 with 1 Axes>",
                  "image/png": "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\n"
                },
                "metadata": {
                  "needs_background": "light"
                }
              },
              {
                "output_type": "display_data",
                "data": {
                  "text/plain": "<matplotlib.axes._subplots.AxesSubplot at 0x7f10d5ced990>"
                },
                "metadata": {}
              }
            ]
          }
        },
        "24b83efe57a349049c4082b6f1b09d6e": {
          "model_module": "@jupyter-widgets/base",
          "model_name": "LayoutModel",
          "model_module_version": "1.2.0",
          "state": {
            "_model_module": "@jupyter-widgets/base",
            "_model_module_version": "1.2.0",
            "_model_name": "LayoutModel",
            "_view_count": null,
            "_view_module": "@jupyter-widgets/base",
            "_view_module_version": "1.2.0",
            "_view_name": "LayoutView",
            "align_content": null,
            "align_items": null,
            "align_self": null,
            "border": null,
            "bottom": null,
            "display": null,
            "flex": null,
            "flex_flow": null,
            "grid_area": null,
            "grid_auto_columns": null,
            "grid_auto_flow": null,
            "grid_auto_rows": null,
            "grid_column": null,
            "grid_gap": null,
            "grid_row": null,
            "grid_template_areas": null,
            "grid_template_columns": null,
            "grid_template_rows": null,
            "height": null,
            "justify_content": null,
            "justify_items": null,
            "left": null,
            "margin": null,
            "max_height": null,
            "max_width": null,
            "min_height": null,
            "min_width": null,
            "object_fit": null,
            "object_position": null,
            "order": null,
            "overflow": null,
            "overflow_x": null,
            "overflow_y": null,
            "padding": null,
            "right": null,
            "top": null,
            "visibility": null,
            "width": null
          }
        },
        "199f94dda9724548883304976a75cf47": {
          "model_module": "@jupyter-widgets/base",
          "model_name": "LayoutModel",
          "model_module_version": "1.2.0",
          "state": {
            "_model_module": "@jupyter-widgets/base",
            "_model_module_version": "1.2.0",
            "_model_name": "LayoutModel",
            "_view_count": null,
            "_view_module": "@jupyter-widgets/base",
            "_view_module_version": "1.2.0",
            "_view_name": "LayoutView",
            "align_content": null,
            "align_items": null,
            "align_self": null,
            "border": null,
            "bottom": null,
            "display": null,
            "flex": null,
            "flex_flow": null,
            "grid_area": null,
            "grid_auto_columns": null,
            "grid_auto_flow": null,
            "grid_auto_rows": null,
            "grid_column": null,
            "grid_gap": null,
            "grid_row": null,
            "grid_template_areas": null,
            "grid_template_columns": null,
            "grid_template_rows": null,
            "height": null,
            "justify_content": null,
            "justify_items": null,
            "left": null,
            "margin": null,
            "max_height": null,
            "max_width": null,
            "min_height": null,
            "min_width": null,
            "object_fit": null,
            "object_position": null,
            "order": null,
            "overflow": null,
            "overflow_x": null,
            "overflow_y": null,
            "padding": null,
            "right": null,
            "top": null,
            "visibility": null,
            "width": null
          }
        },
        "cc6b398bff9c4899bee4eb4a4b58506a": {
          "model_module": "@jupyter-widgets/controls",
          "model_name": "DescriptionStyleModel",
          "model_module_version": "1.5.0",
          "state": {
            "_model_module": "@jupyter-widgets/controls",
            "_model_module_version": "1.5.0",
            "_model_name": "DescriptionStyleModel",
            "_view_count": null,
            "_view_module": "@jupyter-widgets/base",
            "_view_module_version": "1.2.0",
            "_view_name": "StyleView",
            "description_width": ""
          }
        },
        "a962e15b23fd4bebbea7d068cbb0f06e": {
          "model_module": "@jupyter-widgets/base",
          "model_name": "LayoutModel",
          "model_module_version": "1.2.0",
          "state": {
            "_model_module": "@jupyter-widgets/base",
            "_model_module_version": "1.2.0",
            "_model_name": "LayoutModel",
            "_view_count": null,
            "_view_module": "@jupyter-widgets/base",
            "_view_module_version": "1.2.0",
            "_view_name": "LayoutView",
            "align_content": null,
            "align_items": null,
            "align_self": null,
            "border": null,
            "bottom": null,
            "display": null,
            "flex": null,
            "flex_flow": null,
            "grid_area": null,
            "grid_auto_columns": null,
            "grid_auto_flow": null,
            "grid_auto_rows": null,
            "grid_column": null,
            "grid_gap": null,
            "grid_row": null,
            "grid_template_areas": null,
            "grid_template_columns": null,
            "grid_template_rows": null,
            "height": null,
            "justify_content": null,
            "justify_items": null,
            "left": null,
            "margin": null,
            "max_height": null,
            "max_width": null,
            "min_height": null,
            "min_width": null,
            "object_fit": null,
            "object_position": null,
            "order": null,
            "overflow": null,
            "overflow_x": null,
            "overflow_y": null,
            "padding": null,
            "right": null,
            "top": null,
            "visibility": null,
            "width": null
          }
        }
      }
    }
  },
  "cells": [
    {
      "cell_type": "markdown",
      "source": [
        "# Time Series Analysis\n",
        "* the Value at t, depends on the values on t-1 and t-2, then we say its time series\n",
        "* lag is the amount of t's that t depends on.\n",
        "* we mainly focus on extrapolation or forecasting."
      ],
      "metadata": {
        "id": "mAa2x5aeILH8"
      }
    },
    {
      "cell_type": "markdown",
      "source": [
        "1. Time Series EDA\n",
        "* Pandas Data Reader - FInancial Data\n",
        "* Date time Index\n",
        "* Time Resampling\n",
        "* Time Shifts\n",
        "* Mean Rolling and expanding\n",
        "* Time Series Visualization\n",
        "* One samplie Project on Time Series"
      ],
      "metadata": {
        "id": "NWRRbQ9yiUmi"
      }
    },
    {
      "cell_type": "code",
      "source": [
        "import pandas as pd"
      ],
      "metadata": {
        "id": "xInJuRTSsh4l"
      },
      "execution_count": 63,
      "outputs": []
    },
    {
      "cell_type": "code",
      "source": [
        "df= pd.read_csv('/content/TSLA.csv')"
      ],
      "metadata": {
        "id": "R-zvL8xsyefm"
      },
      "execution_count": 64,
      "outputs": []
    },
    {
      "cell_type": "code",
      "source": [
        "df.info()"
      ],
      "metadata": {
        "colab": {
          "base_uri": "https://localhost:8080/"
        },
        "id": "5_Op3hIeZd9w",
        "outputId": "35d60ae8-95b6-48f4-fce5-0f4671302914"
      },
      "execution_count": 67,
      "outputs": [
        {
          "output_type": "stream",
          "name": "stdout",
          "text": [
            "<class 'pandas.core.frame.DataFrame'>\n",
            "RangeIndex: 252 entries, 0 to 251\n",
            "Data columns (total 7 columns):\n",
            " #   Column     Non-Null Count  Dtype         \n",
            "---  ------     --------------  -----         \n",
            " 0   Date       252 non-null    datetime64[ns]\n",
            " 1   Open       252 non-null    float64       \n",
            " 2   High       252 non-null    float64       \n",
            " 3   Low        252 non-null    float64       \n",
            " 4   Close      252 non-null    float64       \n",
            " 5   Adj Close  252 non-null    float64       \n",
            " 6   Volume     252 non-null    int64         \n",
            "dtypes: datetime64[ns](1), float64(5), int64(1)\n",
            "memory usage: 13.9 KB\n"
          ]
        }
      ]
    },
    {
      "cell_type": "code",
      "source": [
        "df['Date'] = df['Date'].astype('datetime64[ns]') # turn date column into datetime since its object now"
      ],
      "metadata": {
        "id": "QrkYCWtxZizW"
      },
      "execution_count": 66,
      "outputs": []
    },
    {
      "cell_type": "code",
      "source": [
        "df.set_index('Date',inplace=True) # set Date col as index"
      ],
      "metadata": {
        "id": "PcHQI1smyq9U"
      },
      "execution_count": 68,
      "outputs": []
    },
    {
      "cell_type": "code",
      "source": [
        "df.head()"
      ],
      "metadata": {
        "colab": {
          "base_uri": "https://localhost:8080/",
          "height": 237
        },
        "id": "nEPKQ-ZZylRi",
        "outputId": "12052c94-8eae-452b-8696-3a7f7aa1dc71"
      },
      "execution_count": 69,
      "outputs": [
        {
          "output_type": "execute_result",
          "data": {
            "text/plain": [
              "                  Open        High         Low       Close   Adj Close  \\\n",
              "Date                                                                     \n",
              "2021-08-30  238.240005  243.666672  237.576660  243.636673  243.636673   \n",
              "2021-08-31  244.333328  246.796661  242.146667  245.240005  245.240005   \n",
              "2021-09-01  244.693329  247.330002  243.756668  244.696671  244.696671   \n",
              "2021-09-02  244.833328  246.990005  243.513336  244.130005  244.130005   \n",
              "2021-09-03  244.083328  244.666672  241.399994  244.523331  244.523331   \n",
              "\n",
              "              Volume  \n",
              "Date                  \n",
              "2021-08-30  55812600  \n",
              "2021-08-31  62566200  \n",
              "2021-09-01  39612900  \n",
              "2021-09-02  38331900  \n",
              "2021-09-03  45738300  "
            ],
            "text/html": [
              "\n",
              "  <div id=\"df-eb5cc000-9636-442b-8bb9-3f92bb146205\">\n",
              "    <div class=\"colab-df-container\">\n",
              "      <div>\n",
              "<style scoped>\n",
              "    .dataframe tbody tr th:only-of-type {\n",
              "        vertical-align: middle;\n",
              "    }\n",
              "\n",
              "    .dataframe tbody tr th {\n",
              "        vertical-align: top;\n",
              "    }\n",
              "\n",
              "    .dataframe thead th {\n",
              "        text-align: right;\n",
              "    }\n",
              "</style>\n",
              "<table border=\"1\" class=\"dataframe\">\n",
              "  <thead>\n",
              "    <tr style=\"text-align: right;\">\n",
              "      <th></th>\n",
              "      <th>Open</th>\n",
              "      <th>High</th>\n",
              "      <th>Low</th>\n",
              "      <th>Close</th>\n",
              "      <th>Adj Close</th>\n",
              "      <th>Volume</th>\n",
              "    </tr>\n",
              "    <tr>\n",
              "      <th>Date</th>\n",
              "      <th></th>\n",
              "      <th></th>\n",
              "      <th></th>\n",
              "      <th></th>\n",
              "      <th></th>\n",
              "      <th></th>\n",
              "    </tr>\n",
              "  </thead>\n",
              "  <tbody>\n",
              "    <tr>\n",
              "      <th>2021-08-30</th>\n",
              "      <td>238.240005</td>\n",
              "      <td>243.666672</td>\n",
              "      <td>237.576660</td>\n",
              "      <td>243.636673</td>\n",
              "      <td>243.636673</td>\n",
              "      <td>55812600</td>\n",
              "    </tr>\n",
              "    <tr>\n",
              "      <th>2021-08-31</th>\n",
              "      <td>244.333328</td>\n",
              "      <td>246.796661</td>\n",
              "      <td>242.146667</td>\n",
              "      <td>245.240005</td>\n",
              "      <td>245.240005</td>\n",
              "      <td>62566200</td>\n",
              "    </tr>\n",
              "    <tr>\n",
              "      <th>2021-09-01</th>\n",
              "      <td>244.693329</td>\n",
              "      <td>247.330002</td>\n",
              "      <td>243.756668</td>\n",
              "      <td>244.696671</td>\n",
              "      <td>244.696671</td>\n",
              "      <td>39612900</td>\n",
              "    </tr>\n",
              "    <tr>\n",
              "      <th>2021-09-02</th>\n",
              "      <td>244.833328</td>\n",
              "      <td>246.990005</td>\n",
              "      <td>243.513336</td>\n",
              "      <td>244.130005</td>\n",
              "      <td>244.130005</td>\n",
              "      <td>38331900</td>\n",
              "    </tr>\n",
              "    <tr>\n",
              "      <th>2021-09-03</th>\n",
              "      <td>244.083328</td>\n",
              "      <td>244.666672</td>\n",
              "      <td>241.399994</td>\n",
              "      <td>244.523331</td>\n",
              "      <td>244.523331</td>\n",
              "      <td>45738300</td>\n",
              "    </tr>\n",
              "  </tbody>\n",
              "</table>\n",
              "</div>\n",
              "      <button class=\"colab-df-convert\" onclick=\"convertToInteractive('df-eb5cc000-9636-442b-8bb9-3f92bb146205')\"\n",
              "              title=\"Convert this dataframe to an interactive table.\"\n",
              "              style=\"display:none;\">\n",
              "        \n",
              "  <svg xmlns=\"http://www.w3.org/2000/svg\" height=\"24px\"viewBox=\"0 0 24 24\"\n",
              "       width=\"24px\">\n",
              "    <path d=\"M0 0h24v24H0V0z\" fill=\"none\"/>\n",
              "    <path d=\"M18.56 5.44l.94 2.06.94-2.06 2.06-.94-2.06-.94-.94-2.06-.94 2.06-2.06.94zm-11 1L8.5 8.5l.94-2.06 2.06-.94-2.06-.94L8.5 2.5l-.94 2.06-2.06.94zm10 10l.94 2.06.94-2.06 2.06-.94-2.06-.94-.94-2.06-.94 2.06-2.06.94z\"/><path d=\"M17.41 7.96l-1.37-1.37c-.4-.4-.92-.59-1.43-.59-.52 0-1.04.2-1.43.59L10.3 9.45l-7.72 7.72c-.78.78-.78 2.05 0 2.83L4 21.41c.39.39.9.59 1.41.59.51 0 1.02-.2 1.41-.59l7.78-7.78 2.81-2.81c.8-.78.8-2.07 0-2.86zM5.41 20L4 18.59l7.72-7.72 1.47 1.35L5.41 20z\"/>\n",
              "  </svg>\n",
              "      </button>\n",
              "      \n",
              "  <style>\n",
              "    .colab-df-container {\n",
              "      display:flex;\n",
              "      flex-wrap:wrap;\n",
              "      gap: 12px;\n",
              "    }\n",
              "\n",
              "    .colab-df-convert {\n",
              "      background-color: #E8F0FE;\n",
              "      border: none;\n",
              "      border-radius: 50%;\n",
              "      cursor: pointer;\n",
              "      display: none;\n",
              "      fill: #1967D2;\n",
              "      height: 32px;\n",
              "      padding: 0 0 0 0;\n",
              "      width: 32px;\n",
              "    }\n",
              "\n",
              "    .colab-df-convert:hover {\n",
              "      background-color: #E2EBFA;\n",
              "      box-shadow: 0px 1px 2px rgba(60, 64, 67, 0.3), 0px 1px 3px 1px rgba(60, 64, 67, 0.15);\n",
              "      fill: #174EA6;\n",
              "    }\n",
              "\n",
              "    [theme=dark] .colab-df-convert {\n",
              "      background-color: #3B4455;\n",
              "      fill: #D2E3FC;\n",
              "    }\n",
              "\n",
              "    [theme=dark] .colab-df-convert:hover {\n",
              "      background-color: #434B5C;\n",
              "      box-shadow: 0px 1px 3px 1px rgba(0, 0, 0, 0.15);\n",
              "      filter: drop-shadow(0px 1px 2px rgba(0, 0, 0, 0.3));\n",
              "      fill: #FFFFFF;\n",
              "    }\n",
              "  </style>\n",
              "\n",
              "      <script>\n",
              "        const buttonEl =\n",
              "          document.querySelector('#df-eb5cc000-9636-442b-8bb9-3f92bb146205 button.colab-df-convert');\n",
              "        buttonEl.style.display =\n",
              "          google.colab.kernel.accessAllowed ? 'block' : 'none';\n",
              "\n",
              "        async function convertToInteractive(key) {\n",
              "          const element = document.querySelector('#df-eb5cc000-9636-442b-8bb9-3f92bb146205');\n",
              "          const dataTable =\n",
              "            await google.colab.kernel.invokeFunction('convertToInteractive',\n",
              "                                                     [key], {});\n",
              "          if (!dataTable) return;\n",
              "\n",
              "          const docLinkHtml = 'Like what you see? Visit the ' +\n",
              "            '<a target=\"_blank\" href=https://colab.research.google.com/notebooks/data_table.ipynb>data table notebook</a>'\n",
              "            + ' to learn more about interactive tables.';\n",
              "          element.innerHTML = '';\n",
              "          dataTable['output_type'] = 'display_data';\n",
              "          await google.colab.output.renderOutput(dataTable, element);\n",
              "          const docLink = document.createElement('div');\n",
              "          docLink.innerHTML = docLinkHtml;\n",
              "          element.appendChild(docLink);\n",
              "        }\n",
              "      </script>\n",
              "    </div>\n",
              "  </div>\n",
              "  "
            ]
          },
          "metadata": {},
          "execution_count": 69
        }
      ]
    },
    {
      "cell_type": "code",
      "source": [
        "df.tail()"
      ],
      "metadata": {
        "colab": {
          "base_uri": "https://localhost:8080/",
          "height": 237
        },
        "id": "ykvp3ckMyoVP",
        "outputId": "5c2df963-7775-4b1b-cf6b-9ec77eb08cca"
      },
      "execution_count": 70,
      "outputs": [
        {
          "output_type": "execute_result",
          "data": {
            "text/plain": [
              "                  Open        High         Low       Close   Adj Close  \\\n",
              "Date                                                                     \n",
              "2022-08-23  291.453339  298.826660  287.923340  296.453339  296.453339   \n",
              "2022-08-24  297.563324  303.646667  296.500000  297.096680  297.096680   \n",
              "2022-08-25  302.359985  302.959991  291.600006  296.070007  296.070007   \n",
              "2022-08-26  297.429993  302.000000  287.470001  288.089996  288.089996   \n",
              "2022-08-29  282.829987  287.739990  280.700012  284.820007  284.820007   \n",
              "\n",
              "              Volume  \n",
              "Date                  \n",
              "2022-08-23  63984900  \n",
              "2022-08-24  57259800  \n",
              "2022-08-25  53230000  \n",
              "2022-08-26  56905800  \n",
              "2022-08-29  41728500  "
            ],
            "text/html": [
              "\n",
              "  <div id=\"df-f5a4f772-db08-4a68-b743-da48e608bb85\">\n",
              "    <div class=\"colab-df-container\">\n",
              "      <div>\n",
              "<style scoped>\n",
              "    .dataframe tbody tr th:only-of-type {\n",
              "        vertical-align: middle;\n",
              "    }\n",
              "\n",
              "    .dataframe tbody tr th {\n",
              "        vertical-align: top;\n",
              "    }\n",
              "\n",
              "    .dataframe thead th {\n",
              "        text-align: right;\n",
              "    }\n",
              "</style>\n",
              "<table border=\"1\" class=\"dataframe\">\n",
              "  <thead>\n",
              "    <tr style=\"text-align: right;\">\n",
              "      <th></th>\n",
              "      <th>Open</th>\n",
              "      <th>High</th>\n",
              "      <th>Low</th>\n",
              "      <th>Close</th>\n",
              "      <th>Adj Close</th>\n",
              "      <th>Volume</th>\n",
              "    </tr>\n",
              "    <tr>\n",
              "      <th>Date</th>\n",
              "      <th></th>\n",
              "      <th></th>\n",
              "      <th></th>\n",
              "      <th></th>\n",
              "      <th></th>\n",
              "      <th></th>\n",
              "    </tr>\n",
              "  </thead>\n",
              "  <tbody>\n",
              "    <tr>\n",
              "      <th>2022-08-23</th>\n",
              "      <td>291.453339</td>\n",
              "      <td>298.826660</td>\n",
              "      <td>287.923340</td>\n",
              "      <td>296.453339</td>\n",
              "      <td>296.453339</td>\n",
              "      <td>63984900</td>\n",
              "    </tr>\n",
              "    <tr>\n",
              "      <th>2022-08-24</th>\n",
              "      <td>297.563324</td>\n",
              "      <td>303.646667</td>\n",
              "      <td>296.500000</td>\n",
              "      <td>297.096680</td>\n",
              "      <td>297.096680</td>\n",
              "      <td>57259800</td>\n",
              "    </tr>\n",
              "    <tr>\n",
              "      <th>2022-08-25</th>\n",
              "      <td>302.359985</td>\n",
              "      <td>302.959991</td>\n",
              "      <td>291.600006</td>\n",
              "      <td>296.070007</td>\n",
              "      <td>296.070007</td>\n",
              "      <td>53230000</td>\n",
              "    </tr>\n",
              "    <tr>\n",
              "      <th>2022-08-26</th>\n",
              "      <td>297.429993</td>\n",
              "      <td>302.000000</td>\n",
              "      <td>287.470001</td>\n",
              "      <td>288.089996</td>\n",
              "      <td>288.089996</td>\n",
              "      <td>56905800</td>\n",
              "    </tr>\n",
              "    <tr>\n",
              "      <th>2022-08-29</th>\n",
              "      <td>282.829987</td>\n",
              "      <td>287.739990</td>\n",
              "      <td>280.700012</td>\n",
              "      <td>284.820007</td>\n",
              "      <td>284.820007</td>\n",
              "      <td>41728500</td>\n",
              "    </tr>\n",
              "  </tbody>\n",
              "</table>\n",
              "</div>\n",
              "      <button class=\"colab-df-convert\" onclick=\"convertToInteractive('df-f5a4f772-db08-4a68-b743-da48e608bb85')\"\n",
              "              title=\"Convert this dataframe to an interactive table.\"\n",
              "              style=\"display:none;\">\n",
              "        \n",
              "  <svg xmlns=\"http://www.w3.org/2000/svg\" height=\"24px\"viewBox=\"0 0 24 24\"\n",
              "       width=\"24px\">\n",
              "    <path d=\"M0 0h24v24H0V0z\" fill=\"none\"/>\n",
              "    <path d=\"M18.56 5.44l.94 2.06.94-2.06 2.06-.94-2.06-.94-.94-2.06-.94 2.06-2.06.94zm-11 1L8.5 8.5l.94-2.06 2.06-.94-2.06-.94L8.5 2.5l-.94 2.06-2.06.94zm10 10l.94 2.06.94-2.06 2.06-.94-2.06-.94-.94-2.06-.94 2.06-2.06.94z\"/><path d=\"M17.41 7.96l-1.37-1.37c-.4-.4-.92-.59-1.43-.59-.52 0-1.04.2-1.43.59L10.3 9.45l-7.72 7.72c-.78.78-.78 2.05 0 2.83L4 21.41c.39.39.9.59 1.41.59.51 0 1.02-.2 1.41-.59l7.78-7.78 2.81-2.81c.8-.78.8-2.07 0-2.86zM5.41 20L4 18.59l7.72-7.72 1.47 1.35L5.41 20z\"/>\n",
              "  </svg>\n",
              "      </button>\n",
              "      \n",
              "  <style>\n",
              "    .colab-df-container {\n",
              "      display:flex;\n",
              "      flex-wrap:wrap;\n",
              "      gap: 12px;\n",
              "    }\n",
              "\n",
              "    .colab-df-convert {\n",
              "      background-color: #E8F0FE;\n",
              "      border: none;\n",
              "      border-radius: 50%;\n",
              "      cursor: pointer;\n",
              "      display: none;\n",
              "      fill: #1967D2;\n",
              "      height: 32px;\n",
              "      padding: 0 0 0 0;\n",
              "      width: 32px;\n",
              "    }\n",
              "\n",
              "    .colab-df-convert:hover {\n",
              "      background-color: #E2EBFA;\n",
              "      box-shadow: 0px 1px 2px rgba(60, 64, 67, 0.3), 0px 1px 3px 1px rgba(60, 64, 67, 0.15);\n",
              "      fill: #174EA6;\n",
              "    }\n",
              "\n",
              "    [theme=dark] .colab-df-convert {\n",
              "      background-color: #3B4455;\n",
              "      fill: #D2E3FC;\n",
              "    }\n",
              "\n",
              "    [theme=dark] .colab-df-convert:hover {\n",
              "      background-color: #434B5C;\n",
              "      box-shadow: 0px 1px 3px 1px rgba(0, 0, 0, 0.15);\n",
              "      filter: drop-shadow(0px 1px 2px rgba(0, 0, 0, 0.3));\n",
              "      fill: #FFFFFF;\n",
              "    }\n",
              "  </style>\n",
              "\n",
              "      <script>\n",
              "        const buttonEl =\n",
              "          document.querySelector('#df-f5a4f772-db08-4a68-b743-da48e608bb85 button.colab-df-convert');\n",
              "        buttonEl.style.display =\n",
              "          google.colab.kernel.accessAllowed ? 'block' : 'none';\n",
              "\n",
              "        async function convertToInteractive(key) {\n",
              "          const element = document.querySelector('#df-f5a4f772-db08-4a68-b743-da48e608bb85');\n",
              "          const dataTable =\n",
              "            await google.colab.kernel.invokeFunction('convertToInteractive',\n",
              "                                                     [key], {});\n",
              "          if (!dataTable) return;\n",
              "\n",
              "          const docLinkHtml = 'Like what you see? Visit the ' +\n",
              "            '<a target=\"_blank\" href=https://colab.research.google.com/notebooks/data_table.ipynb>data table notebook</a>'\n",
              "            + ' to learn more about interactive tables.';\n",
              "          element.innerHTML = '';\n",
              "          dataTable['output_type'] = 'display_data';\n",
              "          await google.colab.output.renderOutput(dataTable, element);\n",
              "          const docLink = document.createElement('div');\n",
              "          docLink.innerHTML = docLinkHtml;\n",
              "          element.appendChild(docLink);\n",
              "        }\n",
              "      </script>\n",
              "    </div>\n",
              "  </div>\n",
              "  "
            ]
          },
          "metadata": {},
          "execution_count": 70
        }
      ]
    },
    {
      "cell_type": "code",
      "source": [
        "columns = df.columns"
      ],
      "metadata": {
        "id": "vfXmmj5kUjrX"
      },
      "execution_count": 71,
      "outputs": []
    },
    {
      "cell_type": "code",
      "source": [
        "from ipywidgets import widgets\n",
        "def des(column):\n",
        "  return df[column].describe(),df[column].plot(kind='box')\n",
        "widgets.interact(des,column=df.columns);"
      ],
      "metadata": {
        "colab": {
          "base_uri": "https://localhost:8080/",
          "height": 482,
          "referenced_widgets": [
            "c9c993b63c404e88b3c9bb5c4b30439f",
            "b853b6032b9c45e3a00be91085abab80",
            "9628889b8d7c4c90a4892b48e4f9e94c",
            "50a4ac290f8849acad7200c847bcc4b9",
            "5fa6cfb48eae449b886c3c2f646f2472",
            "ef15b4e403a049f6b6ab8ab3dd834fcf",
            "b523e7d185fd44a7811193591afe5986"
          ]
        },
        "id": "NCQHdrFGTuZE",
        "outputId": "6dc9822e-654f-401b-b494-4341fa56452d"
      },
      "execution_count": 72,
      "outputs": [
        {
          "output_type": "display_data",
          "data": {
            "text/plain": [
              "interactive(children=(Dropdown(description='column', options=('Open', 'High', 'Low', 'Close', 'Adj Close', 'Vo…"
            ],
            "application/vnd.jupyter.widget-view+json": {
              "version_major": 2,
              "version_minor": 0,
              "model_id": "c9c993b63c404e88b3c9bb5c4b30439f"
            }
          },
          "metadata": {}
        }
      ]
    },
    {
      "cell_type": "code",
      "source": [
        "df.plot(figsize=(12,4))"
      ],
      "metadata": {
        "colab": {
          "base_uri": "https://localhost:8080/",
          "height": 306
        },
        "id": "wRl77ZySTPIf",
        "outputId": "661c8e29-a715-4c8d-fa17-51fd829dfaf1"
      },
      "execution_count": 74,
      "outputs": [
        {
          "output_type": "execute_result",
          "data": {
            "text/plain": [
              "<matplotlib.axes._subplots.AxesSubplot at 0x7f10d6582cd0>"
            ]
          },
          "metadata": {},
          "execution_count": 74
        },
        {
          "output_type": "display_data",
          "data": {
            "text/plain": [
              "<Figure size 864x288 with 1 Axes>"
            ],
            "image/png": "[encoded data removed]"
          },
          "metadata": {
            "needs_background": "light"
          }
        }
      ]
    },
    {
      "cell_type": "code",
      "source": [
        "from ipywidgets import widgets\n",
        "def des(column):\n",
        "  return df[column].plot(figsize=(12,4))\n",
        "widgets.interact(des,column=df.columns);"
      ],
      "metadata": {
        "colab": {
          "base_uri": "https://localhost:8080/",
          "height": 327,
          "referenced_widgets": [
            "b0a6ed13060c4e8c81ef5d8a28b027c2",
            "2e482296f5f94496868742f6b7090468",
            "c67ad94bff9b4274a4aa14ab777e2974",
            "24b83efe57a349049c4082b6f1b09d6e",
            "199f94dda9724548883304976a75cf47",
            "cc6b398bff9c4899bee4eb4a4b58506a",
            "a962e15b23fd4bebbea7d068cbb0f06e"
          ]
        },
        "id": "gKE9f2sGUt6q",
        "outputId": "4d79ee0b-f30b-436c-ec96-ee72f190dc6e"
      },
      "execution_count": 75,
      "outputs": [
        {
          "output_type": "display_data",
          "data": {
            "text/plain": [
              "interactive(children=(Dropdown(description='column', options=('Open', 'High', 'Low', 'Close', 'Adj Close', 'Vo…"
            ],
            "application/vnd.jupyter.widget-view+json": {
              "version_major": 2,
              "version_minor": 0,
              "model_id": "b0a6ed13060c4e8c81ef5d8a28b027c2"
            }
          },
          "metadata": {}
        }
      ]
    },
    {
      "cell_type": "code",
      "source": [
        "#Specify xlim and ylimit, in order to see in detail what happens in certain period\n",
        "df['Low'].plot(xlim=['2022-04-04','2022-06-15'],figsize=(12,4))"
      ],
      "metadata": {
        "colab": {
          "base_uri": "https://localhost:8080/",
          "height": 303
        },
        "id": "gkJNQ0PVVD-b",
        "outputId": "550c7839-c766-43c4-991a-87d9c792fcb6"
      },
      "execution_count": 76,
      "outputs": [
        {
          "output_type": "execute_result",
          "data": {
            "text/plain": [
              "<matplotlib.axes._subplots.AxesSubplot at 0x7f10d5d81910>"
            ]
          },
          "metadata": {},
          "execution_count": 76
        },
        {
          "output_type": "display_data",
          "data": {
            "text/plain": [
              "<Figure size 864x288 with 1 Axes>"
            ],
            "image/png": "[encoded data removed]"
          },
          "metadata": {
            "needs_background": "light"
          }
        }
      ]
    },
    {
      "cell_type": "code",
      "source": [
        "#Specify xlim and ylimit, in order to see in detail what happens in certain period\n",
        "df['High'].plot(xlim=['2022-04-04','2022-06-15'],ylim=(300,400),figsize=(12,4),ls='--',c='green')"
      ],
      "metadata": {
        "colab": {
          "base_uri": "https://localhost:8080/",
          "height": 307
        },
        "id": "59V_4Sx0W9jH",
        "outputId": "73d6fbaf-9dc5-48e0-ce0b-acc72e164c84"
      },
      "execution_count": 81,
      "outputs": [
        {
          "output_type": "execute_result",
          "data": {
            "text/plain": [
              "<matplotlib.axes._subplots.AxesSubplot at 0x7f10d5a93c50>"
            ]
          },
          "metadata": {},
          "execution_count": 81
        },
        {
          "output_type": "display_data",
          "data": {
            "text/plain": [
              "<Figure size 864x288 with 1 Axes>"
            ],
            "image/png": "[encoded data removed]"
          },
          "metadata": {
            "needs_background": "light"
          }
        }
      ]
    },
    {
      "cell_type": "code",
      "source": [
        "df.index"
      ],
      "metadata": {
        "colab": {
          "base_uri": "https://localhost:8080/"
        },
        "id": "LZkVHfHwarF3",
        "outputId": "786741a2-a3e5-4d0c-de4d-0b9f444effcb"
      },
      "execution_count": 82,
      "outputs": [
        {
          "output_type": "execute_result",
          "data": {
            "text/plain": [
              "DatetimeIndex(['2021-08-30', '2021-08-31', '2021-09-01', '2021-09-02',\n",
              "               '2021-09-03', '2021-09-07', '2021-09-08', '2021-09-09',\n",
              "               '2021-09-10', '2021-09-13',\n",
              "               ...\n",
              "               '2022-08-16', '2022-08-17', '2022-08-18', '2022-08-19',\n",
              "               '2022-08-22', '2022-08-23', '2022-08-24', '2022-08-25',\n",
              "               '2022-08-26', '2022-08-29'],\n",
              "              dtype='datetime64[ns]', name='Date', length=252, freq=None)"
            ]
          },
          "metadata": {},
          "execution_count": 82
        }
      ]
    },
    {
      "cell_type": "code",
      "source": [
        "ind = df.loc['2021-08-30':'2021-09-13'].index\n",
        "open_stock = df.loc['2021-08-30':'2021-09-13']['Open']"
      ],
      "metadata": {
        "id": "UYKq8w3Hbwiu"
      },
      "execution_count": 84,
      "outputs": []
    },
    {
      "cell_type": "code",
      "source": [
        "open_stock"
      ],
      "metadata": {
        "colab": {
          "base_uri": "https://localhost:8080/"
        },
        "id": "9W4ZNOZpcHjS",
        "outputId": "fabfbd98-b461-4c99-d623-32bc4f1c2d80"
      },
      "execution_count": 86,
      "outputs": [
        {
          "output_type": "execute_result",
          "data": {
            "text/plain": [
              "Date\n",
              "2021-08-30    238.240005\n",
              "2021-08-31    244.333328\n",
              "2021-09-01    244.693329\n",
              "2021-09-02    244.833328\n",
              "2021-09-03    244.083328\n",
              "2021-09-07    246.666672\n",
              "2021-09-08    253.860001\n",
              "2021-09-09    251.136673\n",
              "2021-09-10    253.199997\n",
              "2021-09-13    246.736664\n",
              "Name: Open, dtype: float64"
            ]
          },
          "metadata": {},
          "execution_count": 86
        }
      ]
    },
    {
      "cell_type": "code",
      "source": [
        "import matplotlib.pyplot as plt\n",
        "%matplotlib inline"
      ],
      "metadata": {
        "id": "qF2oOyZNcmKi"
      },
      "execution_count": 88,
      "outputs": []
    },
    {
      "cell_type": "code",
      "source": [
        "figure,axis = plt.subplots()\n",
        "plt.tight_layout()\n",
        "figure.autofmt_xdate() #prevents overlapping\n",
        "axis.plot(ind,open_stock)"
      ],
      "metadata": {
        "colab": {
          "base_uri": "https://localhost:8080/",
          "height": 309
        },
        "id": "YfEB7QuJdN-l",
        "outputId": "7ee69430-1e5c-4b8c-a1b3-2c97ae0683d8"
      },
      "execution_count": 92,
      "outputs": [
        {
          "output_type": "execute_result",
          "data": {
            "text/plain": [
              "[<matplotlib.lines.Line2D at 0x7f10d2c92210>]"
            ]
          },
          "metadata": {},
          "execution_count": 92
        },
        {
          "output_type": "display_data",
          "data": {
            "text/plain": [
              "<Figure size 432x288 with 1 Axes>"
            ],
            "image/png": "[encoded data removed]"
          },
          "metadata": {
            "needs_background": "light"
          }
        }
      ]
    },
    {
      "cell_type": "code",
      "source": [
        "#plotting Candlestick viz for data\n",
        "!pip install mpl_finance"
      ],
      "metadata": {
        "colab": {
          "base_uri": "https://localhost:8080/"
        },
        "id": "P22Kxy7tdbs1",
        "outputId": "c87d6825-cde1-4969-9d94-dbf52de7c5d2"
      },
      "execution_count": 93,
      "outputs": [
        {
          "output_type": "stream",
          "name": "stdout",
          "text": [
            "Looking in indexes: https://pypi.org/simple, https://us-python.pkg.dev/colab-wheels/public/simple/\n",
            "Collecting mpl_finance\n",
            "  Downloading mpl_finance-0.10.1-py3-none-any.whl (8.4 kB)\n",
            "Requirement already satisfied: matplotlib in /usr/local/lib/python3.7/dist-packages (from mpl_finance) (3.2.2)\n",
            "Requirement already satisfied: python-dateutil>=2.1 in /usr/local/lib/python3.7/dist-packages (from matplotlib->mpl_finance) (2.8.2)\n",
            "Requirement already satisfied: pyparsing!=2.0.4,!=2.1.2,!=2.1.6,>=2.0.1 in /usr/local/lib/python3.7/dist-packages (from matplotlib->mpl_finance) (3.0.9)\n",
            "Requirement already satisfied: numpy>=1.11 in /usr/local/lib/python3.7/dist-packages (from matplotlib->mpl_finance) (1.21.6)\n",
            "Requirement already satisfied: kiwisolver>=1.0.1 in /usr/local/lib/python3.7/dist-packages (from matplotlib->mpl_finance) (1.4.4)\n",
            "Requirement already satisfied: cycler>=0.10 in /usr/local/lib/python3.7/dist-packages (from matplotlib->mpl_finance) (0.11.0)\n",
            "Requirement already satisfied: typing-extensions in /usr/local/lib/python3.7/dist-packages (from kiwisolver>=1.0.1->matplotlib->mpl_finance) (4.1.1)\n",
            "Requirement already satisfied: six>=1.5 in /usr/local/lib/python3.7/dist-packages (from python-dateutil>=2.1->matplotlib->mpl_finance) (1.15.0)\n",
            "Installing collected packages: mpl-finance\n",
            "Successfully installed mpl-finance-0.10.1\n"
          ]
        }
      ]
    },
    {
      "cell_type": "code",
      "source": [
        "from mpl_finance import candlestick_ohlc\n",
        "import matplotlib.dates as mdate"
      ],
      "metadata": {
        "id": "rQPqvqlik2bm"
      },
      "execution_count": 94,
      "outputs": []
    },
    {
      "cell_type": "code",
      "source": [
        "df.head(2)"
      ],
      "metadata": {
        "colab": {
          "base_uri": "https://localhost:8080/",
          "height": 143
        },
        "id": "LXgSq3BSlR5F",
        "outputId": "4b3dcf9c-6466-4a90-f663-1daada9e13bf"
      },
      "execution_count": 95,
      "outputs": [
        {
          "output_type": "execute_result",
          "data": {
            "text/plain": [
              "                  Open        High         Low       Close   Adj Close  \\\n",
              "Date                                                                     \n",
              "2021-08-30  238.240005  243.666672  237.576660  243.636673  243.636673   \n",
              "2021-08-31  244.333328  246.796661  242.146667  245.240005  245.240005   \n",
              "\n",
              "              Volume  \n",
              "Date                  \n",
              "2021-08-30  55812600  \n",
              "2021-08-31  62566200  "
            ],
            "text/html": [
              "\n",
              "  <div id=\"df-92e97951-d7f0-482a-85f0-8fa73dc4d3a5\">\n",
              "    <div class=\"colab-df-container\">\n",
              "      <div>\n",
              "<style scoped>\n",
              "    .dataframe tbody tr th:only-of-type {\n",
              "        vertical-align: middle;\n",
              "    }\n",
              "\n",
              "    .dataframe tbody tr th {\n",
              "        vertical-align: top;\n",
              "    }\n",
              "\n",
              "    .dataframe thead th {\n",
              "        text-align: right;\n",
              "    }\n",
              "</style>\n",
              "<table border=\"1\" class=\"dataframe\">\n",
              "  <thead>\n",
              "    <tr style=\"text-align: right;\">\n",
              "      <th></th>\n",
              "      <th>Open</th>\n",
              "      <th>High</th>\n",
              "      <th>Low</th>\n",
              "      <th>Close</th>\n",
              "      <th>Adj Close</th>\n",
              "      <th>Volume</th>\n",
              "    </tr>\n",
              "    <tr>\n",
              "      <th>Date</th>\n",
              "      <th></th>\n",
              "      <th></th>\n",
              "      <th></th>\n",
              "      <th></th>\n",
              "      <th></th>\n",
              "      <th></th>\n",
              "    </tr>\n",
              "  </thead>\n",
              "  <tbody>\n",
              "    <tr>\n",
              "      <th>2021-08-30</th>\n",
              "      <td>238.240005</td>\n",
              "      <td>243.666672</td>\n",
              "      <td>237.576660</td>\n",
              "      <td>243.636673</td>\n",
              "      <td>243.636673</td>\n",
              "      <td>55812600</td>\n",
              "    </tr>\n",
              "    <tr>\n",
              "      <th>2021-08-31</th>\n",
              "      <td>244.333328</td>\n",
              "      <td>246.796661</td>\n",
              "      <td>242.146667</td>\n",
              "      <td>245.240005</td>\n",
              "      <td>245.240005</td>\n",
              "      <td>62566200</td>\n",
              "    </tr>\n",
              "  </tbody>\n",
              "</table>\n",
              "</div>\n",
              "      <button class=\"colab-df-convert\" onclick=\"convertToInteractive('df-92e97951-d7f0-482a-85f0-8fa73dc4d3a5')\"\n",
              "              title=\"Convert this dataframe to an interactive table.\"\n",
              "              style=\"display:none;\">\n",
              "        \n",
              "  <svg xmlns=\"http://www.w3.org/2000/svg\" height=\"24px\"viewBox=\"0 0 24 24\"\n",
              "       width=\"24px\">\n",
              "    <path d=\"M0 0h24v24H0V0z\" fill=\"none\"/>\n",
              "    <path d=\"M18.56 5.44l.94 2.06.94-2.06 2.06-.94-2.06-.94-.94-2.06-.94 2.06-2.06.94zm-11 1L8.5 8.5l.94-2.06 2.06-.94-2.06-.94L8.5 2.5l-.94 2.06-2.06.94zm10 10l.94 2.06.94-2.06 2.06-.94-2.06-.94-.94-2.06-.94 2.06-2.06.94z\"/><path d=\"M17.41 7.96l-1.37-1.37c-.4-.4-.92-.59-1.43-.59-.52 0-1.04.2-1.43.59L10.3 9.45l-7.72 7.72c-.78.78-.78 2.05 0 2.83L4 21.41c.39.39.9.59 1.41.59.51 0 1.02-.2 1.41-.59l7.78-7.78 2.81-2.81c.8-.78.8-2.07 0-2.86zM5.41 20L4 18.59l7.72-7.72 1.47 1.35L5.41 20z\"/>\n",
              "  </svg>\n",
              "      </button>\n",
              "      \n",
              "  <style>\n",
              "    .colab-df-container {\n",
              "      display:flex;\n",
              "      flex-wrap:wrap;\n",
              "      gap: 12px;\n",
              "    }\n",
              "\n",
              "    .colab-df-convert {\n",
              "      background-color: #E8F0FE;\n",
              "      border: none;\n",
              "      border-radius: 50%;\n",
              "      cursor: pointer;\n",
              "      display: none;\n",
              "      fill: #1967D2;\n",
              "      height: 32px;\n",
              "      padding: 0 0 0 0;\n",
              "      width: 32px;\n",
              "    }\n",
              "\n",
              "    .colab-df-convert:hover {\n",
              "      background-color: #E2EBFA;\n",
              "      box-shadow: 0px 1px 2px rgba(60, 64, 67, 0.3), 0px 1px 3px 1px rgba(60, 64, 67, 0.15);\n",
              "      fill: #174EA6;\n",
              "    }\n",
              "\n",
              "    [theme=dark] .colab-df-convert {\n",
              "      background-color: #3B4455;\n",
              "      fill: #D2E3FC;\n",
              "    }\n",
              "\n",
              "    [theme=dark] .colab-df-convert:hover {\n",
              "      background-color: #434B5C;\n",
              "      box-shadow: 0px 1px 3px 1px rgba(0, 0, 0, 0.15);\n",
              "      filter: drop-shadow(0px 1px 2px rgba(0, 0, 0, 0.3));\n",
              "      fill: #FFFFFF;\n",
              "    }\n",
              "  </style>\n",
              "\n",
              "      <script>\n",
              "        const buttonEl =\n",
              "          document.querySelector('#df-92e97951-d7f0-482a-85f0-8fa73dc4d3a5 button.colab-df-convert');\n",
              "        buttonEl.style.display =\n",
              "          google.colab.kernel.accessAllowed ? 'block' : 'none';\n",
              "\n",
              "        async function convertToInteractive(key) {\n",
              "          const element = document.querySelector('#df-92e97951-d7f0-482a-85f0-8fa73dc4d3a5');\n",
              "          const dataTable =\n",
              "            await google.colab.kernel.invokeFunction('convertToInteractive',\n",
              "                                                     [key], {});\n",
              "          if (!dataTable) return;\n",
              "\n",
              "          const docLinkHtml = 'Like what you see? Visit the ' +\n",
              "            '<a target=\"_blank\" href=https://colab.research.google.com/notebooks/data_table.ipynb>data table notebook</a>'\n",
              "            + ' to learn more about interactive tables.';\n",
              "          element.innerHTML = '';\n",
              "          dataTable['output_type'] = 'display_data';\n",
              "          await google.colab.output.renderOutput(dataTable, element);\n",
              "          const docLink = document.createElement('div');\n",
              "          docLink.innerHTML = docLinkHtml;\n",
              "          element.appendChild(docLink);\n",
              "        }\n",
              "      </script>\n",
              "    </div>\n",
              "  </div>\n",
              "  "
            ]
          },
          "metadata": {},
          "execution_count": 95
        }
      ]
    },
    {
      "cell_type": "code",
      "source": [
        "data = df[['Open','High','Low','Close']]"
      ],
      "metadata": {
        "id": "zUExwpwRlWsy"
      },
      "execution_count": 97,
      "outputs": []
    },
    {
      "cell_type": "code",
      "source": [
        "data.head()"
      ],
      "metadata": {
        "colab": {
          "base_uri": "https://localhost:8080/",
          "height": 237
        },
        "id": "w-USJCHDlnM1",
        "outputId": "1c9bc8c8-54ca-4bbb-a9f1-17f5a72f2041"
      },
      "execution_count": 98,
      "outputs": [
        {
          "output_type": "execute_result",
          "data": {
            "text/plain": [
              "                  Open        High         Low       Close\n",
              "Date                                                      \n",
              "2021-08-30  238.240005  243.666672  237.576660  243.636673\n",
              "2021-08-31  244.333328  246.796661  242.146667  245.240005\n",
              "2021-09-01  244.693329  247.330002  243.756668  244.696671\n",
              "2021-09-02  244.833328  246.990005  243.513336  244.130005\n",
              "2021-09-03  244.083328  244.666672  241.399994  244.523331"
            ],
            "text/html": [
              "\n",
              "  <div id=\"df-60d6b45c-2ef0-4d25-a126-73a1ee713009\">\n",
              "    <div class=\"colab-df-container\">\n",
              "      <div>\n",
              "<style scoped>\n",
              "    .dataframe tbody tr th:only-of-type {\n",
              "        vertical-align: middle;\n",
              "    }\n",
              "\n",
              "    .dataframe tbody tr th {\n",
              "        vertical-align: top;\n",
              "    }\n",
              "\n",
              "    .dataframe thead th {\n",
              "        text-align: right;\n",
              "    }\n",
              "</style>\n",
              "<table border=\"1\" class=\"dataframe\">\n",
              "  <thead>\n",
              "    <tr style=\"text-align: right;\">\n",
              "      <th></th>\n",
              "      <th>Open</th>\n",
              "      <th>High</th>\n",
              "      <th>Low</th>\n",
              "      <th>Close</th>\n",
              "    </tr>\n",
              "    <tr>\n",
              "      <th>Date</th>\n",
              "      <th></th>\n",
              "      <th></th>\n",
              "      <th></th>\n",
              "      <th></th>\n",
              "    </tr>\n",
              "  </thead>\n",
              "  <tbody>\n",
              "    <tr>\n",
              "      <th>2021-08-30</th>\n",
              "      <td>238.240005</td>\n",
              "      <td>243.666672</td>\n",
              "      <td>237.576660</td>\n",
              "      <td>243.636673</td>\n",
              "    </tr>\n",
              "    <tr>\n",
              "      <th>2021-08-31</th>\n",
              "      <td>244.333328</td>\n",
              "      <td>246.796661</td>\n",
              "      <td>242.146667</td>\n",
              "      <td>245.240005</td>\n",
              "    </tr>\n",
              "    <tr>\n",
              "      <th>2021-09-01</th>\n",
              "      <td>244.693329</td>\n",
              "      <td>247.330002</td>\n",
              "      <td>243.756668</td>\n",
              "      <td>244.696671</td>\n",
              "    </tr>\n",
              "    <tr>\n",
              "      <th>2021-09-02</th>\n",
              "      <td>244.833328</td>\n",
              "      <td>246.990005</td>\n",
              "      <td>243.513336</td>\n",
              "      <td>244.130005</td>\n",
              "    </tr>\n",
              "    <tr>\n",
              "      <th>2021-09-03</th>\n",
              "      <td>244.083328</td>\n",
              "      <td>244.666672</td>\n",
              "      <td>241.399994</td>\n",
              "      <td>244.523331</td>\n",
              "    </tr>\n",
              "  </tbody>\n",
              "</table>\n",
              "</div>\n",
              "      <button class=\"colab-df-convert\" onclick=\"convertToInteractive('df-60d6b45c-2ef0-4d25-a126-73a1ee713009')\"\n",
              "              title=\"Convert this dataframe to an interactive table.\"\n",
              "              style=\"display:none;\">\n",
              "        \n",
              "  <svg xmlns=\"http://www.w3.org/2000/svg\" height=\"24px\"viewBox=\"0 0 24 24\"\n",
              "       width=\"24px\">\n",
              "    <path d=\"M0 0h24v24H0V0z\" fill=\"none\"/>\n",
              "    <path d=\"M18.56 5.44l.94 2.06.94-2.06 2.06-.94-2.06-.94-.94-2.06-.94 2.06-2.06.94zm-11 1L8.5 8.5l.94-2.06 2.06-.94-2.06-.94L8.5 2.5l-.94 2.06-2.06.94zm10 10l.94 2.06.94-2.06 2.06-.94-2.06-.94-.94-2.06-.94 2.06-2.06.94z\"/><path d=\"M17.41 7.96l-1.37-1.37c-.4-.4-.92-.59-1.43-.59-.52 0-1.04.2-1.43.59L10.3 9.45l-7.72 7.72c-.78.78-.78 2.05 0 2.83L4 21.41c.39.39.9.59 1.41.59.51 0 1.02-.2 1.41-.59l7.78-7.78 2.81-2.81c.8-.78.8-2.07 0-2.86zM5.41 20L4 18.59l7.72-7.72 1.47 1.35L5.41 20z\"/>\n",
              "  </svg>\n",
              "      </button>\n",
              "      \n",
              "  <style>\n",
              "    .colab-df-container {\n",
              "      display:flex;\n",
              "      flex-wrap:wrap;\n",
              "      gap: 12px;\n",
              "    }\n",
              "\n",
              "    .colab-df-convert {\n",
              "      background-color: #E8F0FE;\n",
              "      border: none;\n",
              "      border-radius: 50%;\n",
              "      cursor: pointer;\n",
              "      display: none;\n",
              "      fill: #1967D2;\n",
              "      height: 32px;\n",
              "      padding: 0 0 0 0;\n",
              "      width: 32px;\n",
              "    }\n",
              "\n",
              "    .colab-df-convert:hover {\n",
              "      background-color: #E2EBFA;\n",
              "      box-shadow: 0px 1px 2px rgba(60, 64, 67, 0.3), 0px 1px 3px 1px rgba(60, 64, 67, 0.15);\n",
              "      fill: #174EA6;\n",
              "    }\n",
              "\n",
              "    [theme=dark] .colab-df-convert {\n",
              "      background-color: #3B4455;\n",
              "      fill: #D2E3FC;\n",
              "    }\n",
              "\n",
              "    [theme=dark] .colab-df-convert:hover {\n",
              "      background-color: #434B5C;\n",
              "      box-shadow: 0px 1px 3px 1px rgba(0, 0, 0, 0.15);\n",
              "      filter: drop-shadow(0px 1px 2px rgba(0, 0, 0, 0.3));\n",
              "      fill: #FFFFFF;\n",
              "    }\n",
              "  </style>\n",
              "\n",
              "      <script>\n",
              "        const buttonEl =\n",
              "          document.querySelector('#df-60d6b45c-2ef0-4d25-a126-73a1ee713009 button.colab-df-convert');\n",
              "        buttonEl.style.display =\n",
              "          google.colab.kernel.accessAllowed ? 'block' : 'none';\n",
              "\n",
              "        async function convertToInteractive(key) {\n",
              "          const element = document.querySelector('#df-60d6b45c-2ef0-4d25-a126-73a1ee713009');\n",
              "          const dataTable =\n",
              "            await google.colab.kernel.invokeFunction('convertToInteractive',\n",
              "                                                     [key], {});\n",
              "          if (!dataTable) return;\n",
              "\n",
              "          const docLinkHtml = 'Like what you see? Visit the ' +\n",
              "            '<a target=\"_blank\" href=https://colab.research.google.com/notebooks/data_table.ipynb>data table notebook</a>'\n",
              "            + ' to learn more about interactive tables.';\n",
              "          element.innerHTML = '';\n",
              "          dataTable['output_type'] = 'display_data';\n",
              "          await google.colab.output.renderOutput(dataTable, element);\n",
              "          const docLink = document.createElement('div');\n",
              "          docLink.innerHTML = docLinkHtml;\n",
              "          element.appendChild(docLink);\n",
              "        }\n",
              "      </script>\n",
              "    </div>\n",
              "  </div>\n",
              "  "
            ]
          },
          "metadata": {},
          "execution_count": 98
        }
      ]
    },
    {
      "cell_type": "code",
      "source": [
        "data.reset_index(inplace=True)"
      ],
      "metadata": {
        "id": "Bp-K8Ubxl63x"
      },
      "execution_count": 100,
      "outputs": []
    },
    {
      "cell_type": "code",
      "source": [
        "data['Date'] = data['Date'].map(mdate.date2num) # convert to numbers for func"
      ],
      "metadata": {
        "colab": {
          "base_uri": "https://localhost:8080/"
        },
        "id": "WfBNN2-NlrJA",
        "outputId": "5dd9e036-5c57-45d1-df70-2c9b79dece75"
      },
      "execution_count": 101,
      "outputs": [
        {
          "output_type": "stream",
          "name": "stderr",
          "text": [
            "/usr/local/lib/python3.7/dist-packages/ipykernel_launcher.py:1: SettingWithCopyWarning: \n",
            "A value is trying to be set on a copy of a slice from a DataFrame.\n",
            "Try using .loc[row_indexer,col_indexer] = value instead\n",
            "\n",
            "See the caveats in the documentation: https://pandas.pydata.org/pandas-docs/stable/user_guide/indexing.html#returning-a-view-versus-a-copy\n",
            "  \"\"\"Entry point for launching an IPython kernel.\n"
          ]
        }
      ]
    },
    {
      "cell_type": "code",
      "source": [
        "data.head()"
      ],
      "metadata": {
        "colab": {
          "base_uri": "https://localhost:8080/",
          "height": 206
        },
        "id": "mZjy16nzmowO",
        "outputId": "aaaa199a-dd6f-45bc-f620-a8c6498dfa66"
      },
      "execution_count": 102,
      "outputs": [
        {
          "output_type": "execute_result",
          "data": {
            "text/plain": [
              "       Date        Open        High         Low       Close\n",
              "0  738032.0  238.240005  243.666672  237.576660  243.636673\n",
              "1  738033.0  244.333328  246.796661  242.146667  245.240005\n",
              "2  738034.0  244.693329  247.330002  243.756668  244.696671\n",
              "3  738035.0  244.833328  246.990005  243.513336  244.130005\n",
              "4  738036.0  244.083328  244.666672  241.399994  244.523331"
            ],
            "text/html": [
              "\n",
              "  <div id=\"df-38c13447-fddd-41b8-b46c-438efb0aa7c8\">\n",
              "    <div class=\"colab-df-container\">\n",
              "      <div>\n",
              "<style scoped>\n",
              "    .dataframe tbody tr th:only-of-type {\n",
              "        vertical-align: middle;\n",
              "    }\n",
              "\n",
              "    .dataframe tbody tr th {\n",
              "        vertical-align: top;\n",
              "    }\n",
              "\n",
              "    .dataframe thead th {\n",
              "        text-align: right;\n",
              "    }\n",
              "</style>\n",
              "<table border=\"1\" class=\"dataframe\">\n",
              "  <thead>\n",
              "    <tr style=\"text-align: right;\">\n",
              "      <th></th>\n",
              "      <th>Date</th>\n",
              "      <th>Open</th>\n",
              "      <th>High</th>\n",
              "      <th>Low</th>\n",
              "      <th>Close</th>\n",
              "    </tr>\n",
              "  </thead>\n",
              "  <tbody>\n",
              "    <tr>\n",
              "      <th>0</th>\n",
              "      <td>738032.0</td>\n",
              "      <td>238.240005</td>\n",
              "      <td>243.666672</td>\n",
              "      <td>237.576660</td>\n",
              "      <td>243.636673</td>\n",
              "    </tr>\n",
              "    <tr>\n",
              "      <th>1</th>\n",
              "      <td>738033.0</td>\n",
              "      <td>244.333328</td>\n",
              "      <td>246.796661</td>\n",
              "      <td>242.146667</td>\n",
              "      <td>245.240005</td>\n",
              "    </tr>\n",
              "    <tr>\n",
              "      <th>2</th>\n",
              "      <td>738034.0</td>\n",
              "      <td>244.693329</td>\n",
              "      <td>247.330002</td>\n",
              "      <td>243.756668</td>\n",
              "      <td>244.696671</td>\n",
              "    </tr>\n",
              "    <tr>\n",
              "      <th>3</th>\n",
              "      <td>738035.0</td>\n",
              "      <td>244.833328</td>\n",
              "      <td>246.990005</td>\n",
              "      <td>243.513336</td>\n",
              "      <td>244.130005</td>\n",
              "    </tr>\n",
              "    <tr>\n",
              "      <th>4</th>\n",
              "      <td>738036.0</td>\n",
              "      <td>244.083328</td>\n",
              "      <td>244.666672</td>\n",
              "      <td>241.399994</td>\n",
              "      <td>244.523331</td>\n",
              "    </tr>\n",
              "  </tbody>\n",
              "</table>\n",
              "</div>\n",
              "      <button class=\"colab-df-convert\" onclick=\"convertToInteractive('df-38c13447-fddd-41b8-b46c-438efb0aa7c8')\"\n",
              "              title=\"Convert this dataframe to an interactive table.\"\n",
              "              style=\"display:none;\">\n",
              "        \n",
              "  <svg xmlns=\"http://www.w3.org/2000/svg\" height=\"24px\"viewBox=\"0 0 24 24\"\n",
              "       width=\"24px\">\n",
              "    <path d=\"M0 0h24v24H0V0z\" fill=\"none\"/>\n",
              "    <path d=\"M18.56 5.44l.94 2.06.94-2.06 2.06-.94-2.06-.94-.94-2.06-.94 2.06-2.06.94zm-11 1L8.5 8.5l.94-2.06 2.06-.94-2.06-.94L8.5 2.5l-.94 2.06-2.06.94zm10 10l.94 2.06.94-2.06 2.06-.94-2.06-.94-.94-2.06-.94 2.06-2.06.94z\"/><path d=\"M17.41 7.96l-1.37-1.37c-.4-.4-.92-.59-1.43-.59-.52 0-1.04.2-1.43.59L10.3 9.45l-7.72 7.72c-.78.78-.78 2.05 0 2.83L4 21.41c.39.39.9.59 1.41.59.51 0 1.02-.2 1.41-.59l7.78-7.78 2.81-2.81c.8-.78.8-2.07 0-2.86zM5.41 20L4 18.59l7.72-7.72 1.47 1.35L5.41 20z\"/>\n",
              "  </svg>\n",
              "      </button>\n",
              "      \n",
              "  <style>\n",
              "    .colab-df-container {\n",
              "      display:flex;\n",
              "      flex-wrap:wrap;\n",
              "      gap: 12px;\n",
              "    }\n",
              "\n",
              "    .colab-df-convert {\n",
              "      background-color: #E8F0FE;\n",
              "      border: none;\n",
              "      border-radius: 50%;\n",
              "      cursor: pointer;\n",
              "      display: none;\n",
              "      fill: #1967D2;\n",
              "      height: 32px;\n",
              "      padding: 0 0 0 0;\n",
              "      width: 32px;\n",
              "    }\n",
              "\n",
              "    .colab-df-convert:hover {\n",
              "      background-color: #E2EBFA;\n",
              "      box-shadow: 0px 1px 2px rgba(60, 64, 67, 0.3), 0px 1px 3px 1px rgba(60, 64, 67, 0.15);\n",
              "      fill: #174EA6;\n",
              "    }\n",
              "\n",
              "    [theme=dark] .colab-df-convert {\n",
              "      background-color: #3B4455;\n",
              "      fill: #D2E3FC;\n",
              "    }\n",
              "\n",
              "    [theme=dark] .colab-df-convert:hover {\n",
              "      background-color: #434B5C;\n",
              "      box-shadow: 0px 1px 3px 1px rgba(0, 0, 0, 0.15);\n",
              "      filter: drop-shadow(0px 1px 2px rgba(0, 0, 0, 0.3));\n",
              "      fill: #FFFFFF;\n",
              "    }\n",
              "  </style>\n",
              "\n",
              "      <script>\n",
              "        const buttonEl =\n",
              "          document.querySelector('#df-38c13447-fddd-41b8-b46c-438efb0aa7c8 button.colab-df-convert');\n",
              "        buttonEl.style.display =\n",
              "          google.colab.kernel.accessAllowed ? 'block' : 'none';\n",
              "\n",
              "        async function convertToInteractive(key) {\n",
              "          const element = document.querySelector('#df-38c13447-fddd-41b8-b46c-438efb0aa7c8');\n",
              "          const dataTable =\n",
              "            await google.colab.kernel.invokeFunction('convertToInteractive',\n",
              "                                                     [key], {});\n",
              "          if (!dataTable) return;\n",
              "\n",
              "          const docLinkHtml = 'Like what you see? Visit the ' +\n",
              "            '<a target=\"_blank\" href=https://colab.research.google.com/notebooks/data_table.ipynb>data table notebook</a>'\n",
              "            + ' to learn more about interactive tables.';\n",
              "          element.innerHTML = '';\n",
              "          dataTable['output_type'] = 'display_data';\n",
              "          await google.colab.output.renderOutput(dataTable, element);\n",
              "          const docLink = document.createElement('div');\n",
              "          docLink.innerHTML = docLinkHtml;\n",
              "          element.appendChild(docLink);\n",
              "        }\n",
              "      </script>\n",
              "    </div>\n",
              "  </div>\n",
              "  "
            ]
          },
          "metadata": {},
          "execution_count": 102
        }
      ]
    },
    {
      "cell_type": "code",
      "source": [
        "ax=plt.subplot()\n",
        "ax.grid(True)\n",
        "ax.set_axisbelow(True)\n",
        "ax.set_title('Tesla Stocks',color='white')\n",
        "ax.set_facecolor('black')\n",
        "ax.figure.set_facecolor('#121212')\n",
        "ax.tick_params(axis='x',colors= 'white')\n",
        "ax.tick_params(axis='y',colors= 'white')\n",
        "ax.xaxis_date() # retrun back to date format\n",
        "candlestick_ohlc(ax,data.values,width=0.7,colorup='#00ff00');"
      ],
      "metadata": {
        "colab": {
          "base_uri": "https://localhost:8080/",
          "height": 281
        },
        "id": "5N7ZXuTSmumK",
        "outputId": "3737b9a3-0abf-417e-8340-e5416940fe7d"
      },
      "execution_count": 115,
      "outputs": [
        {
          "output_type": "display_data",
          "data": {
            "text/plain": [
              "<Figure size 432x288 with 1 Axes>"
            ],
            "image/png": "[encoded data removed]"
          },
          "metadata": {}
        }
      ]
    },
    {
      "cell_type": "markdown",
      "source": [
        "# Resampling\n",
        "![rules.png](data:image/png;base64,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)"
      ],
      "metadata": {
        "id": "bF4vXg1ZrZD-"
      }
    },
    {
      "cell_type": "code",
      "source": [
        "df.head()"
      ],
      "metadata": {
        "colab": {
          "base_uri": "https://localhost:8080/",
          "height": 237
        },
        "id": "zNE2BD2Ynh4X",
        "outputId": "302fdbd8-0046-4fa1-ec3f-2d11342d94be"
      },
      "execution_count": 116,
      "outputs": [
        {
          "output_type": "execute_result",
          "data": {
            "text/plain": [
              "                  Open        High         Low       Close   Adj Close  \\\n",
              "Date                                                                     \n",
              "2021-08-30  238.240005  243.666672  237.576660  243.636673  243.636673   \n",
              "2021-08-31  244.333328  246.796661  242.146667  245.240005  245.240005   \n",
              "2021-09-01  244.693329  247.330002  243.756668  244.696671  244.696671   \n",
              "2021-09-02  244.833328  246.990005  243.513336  244.130005  244.130005   \n",
              "2021-09-03  244.083328  244.666672  241.399994  244.523331  244.523331   \n",
              "\n",
              "              Volume  \n",
              "Date                  \n",
              "2021-08-30  55812600  \n",
              "2021-08-31  62566200  \n",
              "2021-09-01  39612900  \n",
              "2021-09-02  38331900  \n",
              "2021-09-03  45738300  "
            ],
            "text/html": [
              "\n",
              "  <div id=\"df-4bf1660f-472d-416a-abaa-e974d21908db\">\n",
              "    <div class=\"colab-df-container\">\n",
              "      <div>\n",
              "<style scoped>\n",
              "    .dataframe tbody tr th:only-of-type {\n",
              "        vertical-align: middle;\n",
              "    }\n",
              "\n",
              "    .dataframe tbody tr th {\n",
              "        vertical-align: top;\n",
              "    }\n",
              "\n",
              "    .dataframe thead th {\n",
              "        text-align: right;\n",
              "    }\n",
              "</style>\n",
              "<table border=\"1\" class=\"dataframe\">\n",
              "  <thead>\n",
              "    <tr style=\"text-align: right;\">\n",
              "      <th></th>\n",
              "      <th>Open</th>\n",
              "      <th>High</th>\n",
              "      <th>Low</th>\n",
              "      <th>Close</th>\n",
              "      <th>Adj Close</th>\n",
              "      <th>Volume</th>\n",
              "    </tr>\n",
              "    <tr>\n",
              "      <th>Date</th>\n",
              "      <th></th>\n",
              "      <th></th>\n",
              "      <th></th>\n",
              "      <th></th>\n",
              "      <th></th>\n",
              "      <th></th>\n",
              "    </tr>\n",
              "  </thead>\n",
              "  <tbody>\n",
              "    <tr>\n",
              "      <th>2021-08-30</th>\n",
              "      <td>238.240005</td>\n",
              "      <td>243.666672</td>\n",
              "      <td>237.576660</td>\n",
              "      <td>243.636673</td>\n",
              "      <td>243.636673</td>\n",
              "      <td>55812600</td>\n",
              "    </tr>\n",
              "    <tr>\n",
              "      <th>2021-08-31</th>\n",
              "      <td>244.333328</td>\n",
              "      <td>246.796661</td>\n",
              "      <td>242.146667</td>\n",
              "      <td>245.240005</td>\n",
              "      <td>245.240005</td>\n",
              "      <td>62566200</td>\n",
              "    </tr>\n",
              "    <tr>\n",
              "      <th>2021-09-01</th>\n",
              "      <td>244.693329</td>\n",
              "      <td>247.330002</td>\n",
              "      <td>243.756668</td>\n",
              "      <td>244.696671</td>\n",
              "      <td>244.696671</td>\n",
              "      <td>39612900</td>\n",
              "    </tr>\n",
              "    <tr>\n",
              "      <th>2021-09-02</th>\n",
              "      <td>244.833328</td>\n",
              "      <td>246.990005</td>\n",
              "      <td>243.513336</td>\n",
              "      <td>244.130005</td>\n",
              "      <td>244.130005</td>\n",
              "      <td>38331900</td>\n",
              "    </tr>\n",
              "    <tr>\n",
              "      <th>2021-09-03</th>\n",
              "      <td>244.083328</td>\n",
              "      <td>244.666672</td>\n",
              "      <td>241.399994</td>\n",
              "      <td>244.523331</td>\n",
              "      <td>244.523331</td>\n",
              "      <td>45738300</td>\n",
              "    </tr>\n",
              "  </tbody>\n",
              "</table>\n",
              "</div>\n",
              "      <button class=\"colab-df-convert\" onclick=\"convertToInteractive('df-4bf1660f-472d-416a-abaa-e974d21908db')\"\n",
              "              title=\"Convert this dataframe to an interactive table.\"\n",
              "              style=\"display:none;\">\n",
              "        \n",
              "  <svg xmlns=\"http://www.w3.org/2000/svg\" height=\"24px\"viewBox=\"0 0 24 24\"\n",
              "       width=\"24px\">\n",
              "    <path d=\"M0 0h24v24H0V0z\" fill=\"none\"/>\n",
              "    <path d=\"M18.56 5.44l.94 2.06.94-2.06 2.06-.94-2.06-.94-.94-2.06-.94 2.06-2.06.94zm-11 1L8.5 8.5l.94-2.06 2.06-.94-2.06-.94L8.5 2.5l-.94 2.06-2.06.94zm10 10l.94 2.06.94-2.06 2.06-.94-2.06-.94-.94-2.06-.94 2.06-2.06.94z\"/><path d=\"M17.41 7.96l-1.37-1.37c-.4-.4-.92-.59-1.43-.59-.52 0-1.04.2-1.43.59L10.3 9.45l-7.72 7.72c-.78.78-.78 2.05 0 2.83L4 21.41c.39.39.9.59 1.41.59.51 0 1.02-.2 1.41-.59l7.78-7.78 2.81-2.81c.8-.78.8-2.07 0-2.86zM5.41 20L4 18.59l7.72-7.72 1.47 1.35L5.41 20z\"/>\n",
              "  </svg>\n",
              "      </button>\n",
              "      \n",
              "  <style>\n",
              "    .colab-df-container {\n",
              "      display:flex;\n",
              "      flex-wrap:wrap;\n",
              "      gap: 12px;\n",
              "    }\n",
              "\n",
              "    .colab-df-convert {\n",
              "      background-color: #E8F0FE;\n",
              "      border: none;\n",
              "      border-radius: 50%;\n",
              "      cursor: pointer;\n",
              "      display: none;\n",
              "      fill: #1967D2;\n",
              "      height: 32px;\n",
              "      padding: 0 0 0 0;\n",
              "      width: 32px;\n",
              "    }\n",
              "\n",
              "    .colab-df-convert:hover {\n",
              "      background-color: #E2EBFA;\n",
              "      box-shadow: 0px 1px 2px rgba(60, 64, 67, 0.3), 0px 1px 3px 1px rgba(60, 64, 67, 0.15);\n",
              "      fill: #174EA6;\n",
              "    }\n",
              "\n",
              "    [theme=dark] .colab-df-convert {\n",
              "      background-color: #3B4455;\n",
              "      fill: #D2E3FC;\n",
              "    }\n",
              "\n",
              "    [theme=dark] .colab-df-convert:hover {\n",
              "      background-color: #434B5C;\n",
              "      box-shadow: 0px 1px 3px 1px rgba(0, 0, 0, 0.15);\n",
              "      filter: drop-shadow(0px 1px 2px rgba(0, 0, 0, 0.3));\n",
              "      fill: #FFFFFF;\n",
              "    }\n",
              "  </style>\n",
              "\n",
              "      <script>\n",
              "        const buttonEl =\n",
              "          document.querySelector('#df-4bf1660f-472d-416a-abaa-e974d21908db button.colab-df-convert');\n",
              "        buttonEl.style.display =\n",
              "          google.colab.kernel.accessAllowed ? 'block' : 'none';\n",
              "\n",
              "        async function convertToInteractive(key) {\n",
              "          const element = document.querySelector('#df-4bf1660f-472d-416a-abaa-e974d21908db');\n",
              "          const dataTable =\n",
              "            await google.colab.kernel.invokeFunction('convertToInteractive',\n",
              "                                                     [key], {});\n",
              "          if (!dataTable) return;\n",
              "\n",
              "          const docLinkHtml = 'Like what you see? Visit the ' +\n",
              "            '<a target=\"_blank\" href=https://colab.research.google.com/notebooks/data_table.ipynb>data table notebook</a>'\n",
              "            + ' to learn more about interactive tables.';\n",
              "          element.innerHTML = '';\n",
              "          dataTable['output_type'] = 'display_data';\n",
              "          await google.colab.output.renderOutput(dataTable, element);\n",
              "          const docLink = document.createElement('div');\n",
              "          docLink.innerHTML = docLinkHtml;\n",
              "          element.appendChild(docLink);\n",
              "        }\n",
              "      </script>\n",
              "    </div>\n",
              "  </div>\n",
              "  "
            ]
          },
          "metadata": {},
          "execution_count": 116
        }
      ]
    },
    {
      "cell_type": "code",
      "source": [
        "# use Rule A, Find Min for each year, in each column(like groupby func)\n",
        "# A means year end frequency\n",
        "df.resample(rule='A').min()"
      ],
      "metadata": {
        "colab": {
          "base_uri": "https://localhost:8080/",
          "height": 143
        },
        "id": "E-mJ1ocxriVb",
        "outputId": "86d2d105-8b62-401c-ce59-027ff03924ff"
      },
      "execution_count": 122,
      "outputs": [
        {
          "output_type": "execute_result",
          "data": {
            "text/plain": [
              "                  Open        High         Low       Close   Adj Close  \\\n",
              "Date                                                                     \n",
              "2021-12-31  238.240005  243.666672  236.283340  243.389999  243.389999   \n",
              "2022-12-31  207.949997  217.973328  206.856674  209.386673  209.386673   \n",
              "\n",
              "              Volume  \n",
              "Date                  \n",
              "2021-12-31  35042700  \n",
              "2022-12-31  41728500  "
            ],
            "text/html": [
              "\n",
              "  <div id=\"df-02cfb41c-6a89-4638-9b5d-5155df1e5d5d\">\n",
              "    <div class=\"colab-df-container\">\n",
              "      <div>\n",
              "<style scoped>\n",
              "    .dataframe tbody tr th:only-of-type {\n",
              "        vertical-align: middle;\n",
              "    }\n",
              "\n",
              "    .dataframe tbody tr th {\n",
              "        vertical-align: top;\n",
              "    }\n",
              "\n",
              "    .dataframe thead th {\n",
              "        text-align: right;\n",
              "    }\n",
              "</style>\n",
              "<table border=\"1\" class=\"dataframe\">\n",
              "  <thead>\n",
              "    <tr style=\"text-align: right;\">\n",
              "      <th></th>\n",
              "      <th>Open</th>\n",
              "      <th>High</th>\n",
              "      <th>Low</th>\n",
              "      <th>Close</th>\n",
              "      <th>Adj Close</th>\n",
              "      <th>Volume</th>\n",
              "    </tr>\n",
              "    <tr>\n",
              "      <th>Date</th>\n",
              "      <th></th>\n",
              "      <th></th>\n",
              "      <th></th>\n",
              "      <th></th>\n",
              "      <th></th>\n",
              "      <th></th>\n",
              "    </tr>\n",
              "  </thead>\n",
              "  <tbody>\n",
              "    <tr>\n",
              "      <th>2021-12-31</th>\n",
              "      <td>238.240005</td>\n",
              "      <td>243.666672</td>\n",
              "      <td>236.283340</td>\n",
              "      <td>243.389999</td>\n",
              "      <td>243.389999</td>\n",
              "      <td>35042700</td>\n",
              "    </tr>\n",
              "    <tr>\n",
              "      <th>2022-12-31</th>\n",
              "      <td>207.949997</td>\n",
              "      <td>217.973328</td>\n",
              "      <td>206.856674</td>\n",
              "      <td>209.386673</td>\n",
              "      <td>209.386673</td>\n",
              "      <td>41728500</td>\n",
              "    </tr>\n",
              "  </tbody>\n",
              "</table>\n",
              "</div>\n",
              "      <button class=\"colab-df-convert\" onclick=\"convertToInteractive('df-02cfb41c-6a89-4638-9b5d-5155df1e5d5d')\"\n",
              "              title=\"Convert this dataframe to an interactive table.\"\n",
              "              style=\"display:none;\">\n",
              "        \n",
              "  <svg xmlns=\"http://www.w3.org/2000/svg\" height=\"24px\"viewBox=\"0 0 24 24\"\n",
              "       width=\"24px\">\n",
              "    <path d=\"M0 0h24v24H0V0z\" fill=\"none\"/>\n",
              "    <path d=\"M18.56 5.44l.94 2.06.94-2.06 2.06-.94-2.06-.94-.94-2.06-.94 2.06-2.06.94zm-11 1L8.5 8.5l.94-2.06 2.06-.94-2.06-.94L8.5 2.5l-.94 2.06-2.06.94zm10 10l.94 2.06.94-2.06 2.06-.94-2.06-.94-.94-2.06-.94 2.06-2.06.94z\"/><path d=\"M17.41 7.96l-1.37-1.37c-.4-.4-.92-.59-1.43-.59-.52 0-1.04.2-1.43.59L10.3 9.45l-7.72 7.72c-.78.78-.78 2.05 0 2.83L4 21.41c.39.39.9.59 1.41.59.51 0 1.02-.2 1.41-.59l7.78-7.78 2.81-2.81c.8-.78.8-2.07 0-2.86zM5.41 20L4 18.59l7.72-7.72 1.47 1.35L5.41 20z\"/>\n",
              "  </svg>\n",
              "      </button>\n",
              "      \n",
              "  <style>\n",
              "    .colab-df-container {\n",
              "      display:flex;\n",
              "      flex-wrap:wrap;\n",
              "      gap: 12px;\n",
              "    }\n",
              "\n",
              "    .colab-df-convert {\n",
              "      background-color: #E8F0FE;\n",
              "      border: none;\n",
              "      border-radius: 50%;\n",
              "      cursor: pointer;\n",
              "      display: none;\n",
              "      fill: #1967D2;\n",
              "      height: 32px;\n",
              "      padding: 0 0 0 0;\n",
              "      width: 32px;\n",
              "    }\n",
              "\n",
              "    .colab-df-convert:hover {\n",
              "      background-color: #E2EBFA;\n",
              "      box-shadow: 0px 1px 2px rgba(60, 64, 67, 0.3), 0px 1px 3px 1px rgba(60, 64, 67, 0.15);\n",
              "      fill: #174EA6;\n",
              "    }\n",
              "\n",
              "    [theme=dark] .colab-df-convert {\n",
              "      background-color: #3B4455;\n",
              "      fill: #D2E3FC;\n",
              "    }\n",
              "\n",
              "    [theme=dark] .colab-df-convert:hover {\n",
              "      background-color: #434B5C;\n",
              "      box-shadow: 0px 1px 3px 1px rgba(0, 0, 0, 0.15);\n",
              "      filter: drop-shadow(0px 1px 2px rgba(0, 0, 0, 0.3));\n",
              "      fill: #FFFFFF;\n",
              "    }\n",
              "  </style>\n",
              "\n",
              "      <script>\n",
              "        const buttonEl =\n",
              "          document.querySelector('#df-02cfb41c-6a89-4638-9b5d-5155df1e5d5d button.colab-df-convert');\n",
              "        buttonEl.style.display =\n",
              "          google.colab.kernel.accessAllowed ? 'block' : 'none';\n",
              "\n",
              "        async function convertToInteractive(key) {\n",
              "          const element = document.querySelector('#df-02cfb41c-6a89-4638-9b5d-5155df1e5d5d');\n",
              "          const dataTable =\n",
              "            await google.colab.kernel.invokeFunction('convertToInteractive',\n",
              "                                                     [key], {});\n",
              "          if (!dataTable) return;\n",
              "\n",
              "          const docLinkHtml = 'Like what you see? Visit the ' +\n",
              "            '<a target=\"_blank\" href=https://colab.research.google.com/notebooks/data_table.ipynb>data table notebook</a>'\n",
              "            + ' to learn more about interactive tables.';\n",
              "          element.innerHTML = '';\n",
              "          dataTable['output_type'] = 'display_data';\n",
              "          await google.colab.output.renderOutput(dataTable, element);\n",
              "          const docLink = document.createElement('div');\n",
              "          docLink.innerHTML = docLinkHtml;\n",
              "          element.appendChild(docLink);\n",
              "        }\n",
              "      </script>\n",
              "    </div>\n",
              "  </div>\n",
              "  "
            ]
          },
          "metadata": {},
          "execution_count": 122
        }
      ]
    },
    {
      "cell_type": "code",
      "source": [
        "df.resample(rule='A').max()"
      ],
      "metadata": {
        "colab": {
          "base_uri": "https://localhost:8080/",
          "height": 143
        },
        "id": "5i9ZHSwIsJiH",
        "outputId": "6d31a2fa-5df5-4573-da83-394d4079024c"
      },
      "execution_count": 119,
      "outputs": [
        {
          "output_type": "execute_result",
          "data": {
            "text/plain": [
              "                  Open        High         Low       Close   Adj Close  \\\n",
              "Date                                                                     \n",
              "2021-12-31  411.470001  414.496674  405.666656  409.970001  409.970001   \n",
              "2022-12-31  396.516663  402.666656  378.679993  399.926666  399.926666   \n",
              "\n",
              "               Volume  \n",
              "Date                   \n",
              "2021-12-31  188556300  \n",
              "2022-12-31  151565700  "
            ],
            "text/html": [
              "\n",
              "  <div id=\"df-0cf1d61a-a456-4536-8540-f8b2e6a6a425\">\n",
              "    <div class=\"colab-df-container\">\n",
              "      <div>\n",
              "<style scoped>\n",
              "    .dataframe tbody tr th:only-of-type {\n",
              "        vertical-align: middle;\n",
              "    }\n",
              "\n",
              "    .dataframe tbody tr th {\n",
              "        vertical-align: top;\n",
              "    }\n",
              "\n",
              "    .dataframe thead th {\n",
              "        text-align: right;\n",
              "    }\n",
              "</style>\n",
              "<table border=\"1\" class=\"dataframe\">\n",
              "  <thead>\n",
              "    <tr style=\"text-align: right;\">\n",
              "      <th></th>\n",
              "      <th>Open</th>\n",
              "      <th>High</th>\n",
              "      <th>Low</th>\n",
              "      <th>Close</th>\n",
              "      <th>Adj Close</th>\n",
              "      <th>Volume</th>\n",
              "    </tr>\n",
              "    <tr>\n",
              "      <th>Date</th>\n",
              "      <th></th>\n",
              "      <th></th>\n",
              "      <th></th>\n",
              "      <th></th>\n",
              "      <th></th>\n",
              "      <th></th>\n",
              "    </tr>\n",
              "  </thead>\n",
              "  <tbody>\n",
              "    <tr>\n",
              "      <th>2021-12-31</th>\n",
              "      <td>411.470001</td>\n",
              "      <td>414.496674</td>\n",
              "      <td>405.666656</td>\n",
              "      <td>409.970001</td>\n",
              "      <td>409.970001</td>\n",
              "      <td>188556300</td>\n",
              "    </tr>\n",
              "    <tr>\n",
              "      <th>2022-12-31</th>\n",
              "      <td>396.516663</td>\n",
              "      <td>402.666656</td>\n",
              "      <td>378.679993</td>\n",
              "      <td>399.926666</td>\n",
              "      <td>399.926666</td>\n",
              "      <td>151565700</td>\n",
              "    </tr>\n",
              "  </tbody>\n",
              "</table>\n",
              "</div>\n",
              "      <button class=\"colab-df-convert\" onclick=\"convertToInteractive('df-0cf1d61a-a456-4536-8540-f8b2e6a6a425')\"\n",
              "              title=\"Convert this dataframe to an interactive table.\"\n",
              "              style=\"display:none;\">\n",
              "        \n",
              "  <svg xmlns=\"http://www.w3.org/2000/svg\" height=\"24px\"viewBox=\"0 0 24 24\"\n",
              "       width=\"24px\">\n",
              "    <path d=\"M0 0h24v24H0V0z\" fill=\"none\"/>\n",
              "    <path d=\"M18.56 5.44l.94 2.06.94-2.06 2.06-.94-2.06-.94-.94-2.06-.94 2.06-2.06.94zm-11 1L8.5 8.5l.94-2.06 2.06-.94-2.06-.94L8.5 2.5l-.94 2.06-2.06.94zm10 10l.94 2.06.94-2.06 2.06-.94-2.06-.94-.94-2.06-.94 2.06-2.06.94z\"/><path d=\"M17.41 7.96l-1.37-1.37c-.4-.4-.92-.59-1.43-.59-.52 0-1.04.2-1.43.59L10.3 9.45l-7.72 7.72c-.78.78-.78 2.05 0 2.83L4 21.41c.39.39.9.59 1.41.59.51 0 1.02-.2 1.41-.59l7.78-7.78 2.81-2.81c.8-.78.8-2.07 0-2.86zM5.41 20L4 18.59l7.72-7.72 1.47 1.35L5.41 20z\"/>\n",
              "  </svg>\n",
              "      </button>\n",
              "      \n",
              "  <style>\n",
              "    .colab-df-container {\n",
              "      display:flex;\n",
              "      flex-wrap:wrap;\n",
              "      gap: 12px;\n",
              "    }\n",
              "\n",
              "    .colab-df-convert {\n",
              "      background-color: #E8F0FE;\n",
              "      border: none;\n",
              "      border-radius: 50%;\n",
              "      cursor: pointer;\n",
              "      display: none;\n",
              "      fill: #1967D2;\n",
              "      height: 32px;\n",
              "      padding: 0 0 0 0;\n",
              "      width: 32px;\n",
              "    }\n",
              "\n",
              "    .colab-df-convert:hover {\n",
              "      background-color: #E2EBFA;\n",
              "      box-shadow: 0px 1px 2px rgba(60, 64, 67, 0.3), 0px 1px 3px 1px rgba(60, 64, 67, 0.15);\n",
              "      fill: #174EA6;\n",
              "    }\n",
              "\n",
              "    [theme=dark] .colab-df-convert {\n",
              "      background-color: #3B4455;\n",
              "      fill: #D2E3FC;\n",
              "    }\n",
              "\n",
              "    [theme=dark] .colab-df-convert:hover {\n",
              "      background-color: #434B5C;\n",
              "      box-shadow: 0px 1px 3px 1px rgba(0, 0, 0, 0.15);\n",
              "      filter: drop-shadow(0px 1px 2px rgba(0, 0, 0, 0.3));\n",
              "      fill: #FFFFFF;\n",
              "    }\n",
              "  </style>\n",
              "\n",
              "      <script>\n",
              "        const buttonEl =\n",
              "          document.querySelector('#df-0cf1d61a-a456-4536-8540-f8b2e6a6a425 button.colab-df-convert');\n",
              "        buttonEl.style.display =\n",
              "          google.colab.kernel.accessAllowed ? 'block' : 'none';\n",
              "\n",
              "        async function convertToInteractive(key) {\n",
              "          const element = document.querySelector('#df-0cf1d61a-a456-4536-8540-f8b2e6a6a425');\n",
              "          const dataTable =\n",
              "            await google.colab.kernel.invokeFunction('convertToInteractive',\n",
              "                                                     [key], {});\n",
              "          if (!dataTable) return;\n",
              "\n",
              "          const docLinkHtml = 'Like what you see? Visit the ' +\n",
              "            '<a target=\"_blank\" href=https://colab.research.google.com/notebooks/data_table.ipynb>data table notebook</a>'\n",
              "            + ' to learn more about interactive tables.';\n",
              "          element.innerHTML = '';\n",
              "          dataTable['output_type'] = 'display_data';\n",
              "          await google.colab.output.renderOutput(dataTable, element);\n",
              "          const docLink = document.createElement('div');\n",
              "          docLink.innerHTML = docLinkHtml;\n",
              "          element.appendChild(docLink);\n",
              "        }\n",
              "      </script>\n",
              "    </div>\n",
              "  </div>\n",
              "  "
            ]
          },
          "metadata": {},
          "execution_count": 119
        }
      ]
    },
    {
      "cell_type": "code",
      "source": [
        "# we can plot this data\n",
        "df.resample(rule='A').min()['Open'].plot(kind='bar')"
      ],
      "metadata": {
        "colab": {
          "base_uri": "https://localhost:8080/",
          "height": 396
        },
        "id": "6e9wgA1oshJc",
        "outputId": "91e3c088-8494-4f65-f906-2b76116b0833"
      },
      "execution_count": 121,
      "outputs": [
        {
          "output_type": "execute_result",
          "data": {
            "text/plain": [
              "<matplotlib.axes._subplots.AxesSubplot at 0x7f10cf86a650>"
            ]
          },
          "metadata": {},
          "execution_count": 121
        },
        {
          "output_type": "display_data",
          "data": {
            "text/plain": [
              "<Figure size 432x288 with 1 Axes>"
            ],
            "image/png": "[encoded data removed]"
          },
          "metadata": {
            "needs_background": "light"
          }
        }
      ]
    },
    {
      "cell_type": "code",
      "source": [
        "# quarterly start frequency\n",
        "df.resample(rule='QS').min()['High'].plot()"
      ],
      "metadata": {
        "colab": {
          "base_uri": "https://localhost:8080/",
          "height": 309
        },
        "id": "vEpc6bx1sxg8",
        "outputId": "095b22e0-dd98-4a23-98c2-eb5e6fd8a346"
      },
      "execution_count": 124,
      "outputs": [
        {
          "output_type": "execute_result",
          "data": {
            "text/plain": [
              "<matplotlib.axes._subplots.AxesSubplot at 0x7f10cf7d3650>"
            ]
          },
          "metadata": {},
          "execution_count": 124
        },
        {
          "output_type": "display_data",
          "data": {
            "text/plain": [
              "<Figure size 432x288 with 1 Axes>"
            ],
            "image/png": "[encoded data removed]"
          },
          "metadata": {
            "needs_background": "light"
          }
        }
      ]
    },
    {
      "cell_type": "code",
      "source": [
        "# business end frequency\n",
        "df.resample(rule='BA').min()"
      ],
      "metadata": {
        "colab": {
          "base_uri": "https://localhost:8080/",
          "height": 143
        },
        "id": "DybDOsLFt7hX",
        "outputId": "1ce8a500-4c54-42a5-aad8-7fd3b50bb402"
      },
      "execution_count": 126,
      "outputs": [
        {
          "output_type": "execute_result",
          "data": {
            "text/plain": [
              "                  Open        High         Low       Close   Adj Close  \\\n",
              "Date                                                                     \n",
              "2021-12-31  238.240005  243.666672  236.283340  243.389999  243.389999   \n",
              "2022-12-30  207.949997  217.973328  206.856674  209.386673  209.386673   \n",
              "\n",
              "              Volume  \n",
              "Date                  \n",
              "2021-12-31  35042700  \n",
              "2022-12-30  41728500  "
            ],
            "text/html": [
              "\n",
              "  <div id=\"df-54221907-8846-4a8a-acfc-6fb3f2fe14e3\">\n",
              "    <div class=\"colab-df-container\">\n",
              "      <div>\n",
              "<style scoped>\n",
              "    .dataframe tbody tr th:only-of-type {\n",
              "        vertical-align: middle;\n",
              "    }\n",
              "\n",
              "    .dataframe tbody tr th {\n",
              "        vertical-align: top;\n",
              "    }\n",
              "\n",
              "    .dataframe thead th {\n",
              "        text-align: right;\n",
              "    }\n",
              "</style>\n",
              "<table border=\"1\" class=\"dataframe\">\n",
              "  <thead>\n",
              "    <tr style=\"text-align: right;\">\n",
              "      <th></th>\n",
              "      <th>Open</th>\n",
              "      <th>High</th>\n",
              "      <th>Low</th>\n",
              "      <th>Close</th>\n",
              "      <th>Adj Close</th>\n",
              "      <th>Volume</th>\n",
              "    </tr>\n",
              "    <tr>\n",
              "      <th>Date</th>\n",
              "      <th></th>\n",
              "      <th></th>\n",
              "      <th></th>\n",
              "      <th></th>\n",
              "      <th></th>\n",
              "      <th></th>\n",
              "    </tr>\n",
              "  </thead>\n",
              "  <tbody>\n",
              "    <tr>\n",
              "      <th>2021-12-31</th>\n",
              "      <td>238.240005</td>\n",
              "      <td>243.666672</td>\n",
              "      <td>236.283340</td>\n",
              "      <td>243.389999</td>\n",
              "      <td>243.389999</td>\n",
              "      <td>35042700</td>\n",
              "    </tr>\n",
              "    <tr>\n",
              "      <th>2022-12-30</th>\n",
              "      <td>207.949997</td>\n",
              "      <td>217.973328</td>\n",
              "      <td>206.856674</td>\n",
              "      <td>209.386673</td>\n",
              "      <td>209.386673</td>\n",
              "      <td>41728500</td>\n",
              "    </tr>\n",
              "  </tbody>\n",
              "</table>\n",
              "</div>\n",
              "      <button class=\"colab-df-convert\" onclick=\"convertToInteractive('df-54221907-8846-4a8a-acfc-6fb3f2fe14e3')\"\n",
              "              title=\"Convert this dataframe to an interactive table.\"\n",
              "              style=\"display:none;\">\n",
              "        \n",
              "  <svg xmlns=\"http://www.w3.org/2000/svg\" height=\"24px\"viewBox=\"0 0 24 24\"\n",
              "       width=\"24px\">\n",
              "    <path d=\"M0 0h24v24H0V0z\" fill=\"none\"/>\n",
              "    <path d=\"M18.56 5.44l.94 2.06.94-2.06 2.06-.94-2.06-.94-.94-2.06-.94 2.06-2.06.94zm-11 1L8.5 8.5l.94-2.06 2.06-.94-2.06-.94L8.5 2.5l-.94 2.06-2.06.94zm10 10l.94 2.06.94-2.06 2.06-.94-2.06-.94-.94-2.06-.94 2.06-2.06.94z\"/><path d=\"M17.41 7.96l-1.37-1.37c-.4-.4-.92-.59-1.43-.59-.52 0-1.04.2-1.43.59L10.3 9.45l-7.72 7.72c-.78.78-.78 2.05 0 2.83L4 21.41c.39.39.9.59 1.41.59.51 0 1.02-.2 1.41-.59l7.78-7.78 2.81-2.81c.8-.78.8-2.07 0-2.86zM5.41 20L4 18.59l7.72-7.72 1.47 1.35L5.41 20z\"/>\n",
              "  </svg>\n",
              "      </button>\n",
              "      \n",
              "  <style>\n",
              "    .colab-df-container {\n",
              "      display:flex;\n",
              "      flex-wrap:wrap;\n",
              "      gap: 12px;\n",
              "    }\n",
              "\n",
              "    .colab-df-convert {\n",
              "      background-color: #E8F0FE;\n",
              "      border: none;\n",
              "      border-radius: 50%;\n",
              "      cursor: pointer;\n",
              "      display: none;\n",
              "      fill: #1967D2;\n",
              "      height: 32px;\n",
              "      padding: 0 0 0 0;\n",
              "      width: 32px;\n",
              "    }\n",
              "\n",
              "    .colab-df-convert:hover {\n",
              "      background-color: #E2EBFA;\n",
              "      box-shadow: 0px 1px 2px rgba(60, 64, 67, 0.3), 0px 1px 3px 1px rgba(60, 64, 67, 0.15);\n",
              "      fill: #174EA6;\n",
              "    }\n",
              "\n",
              "    [theme=dark] .colab-df-convert {\n",
              "      background-color: #3B4455;\n",
              "      fill: #D2E3FC;\n",
              "    }\n",
              "\n",
              "    [theme=dark] .colab-df-convert:hover {\n",
              "      background-color: #434B5C;\n",
              "      box-shadow: 0px 1px 3px 1px rgba(0, 0, 0, 0.15);\n",
              "      filter: drop-shadow(0px 1px 2px rgba(0, 0, 0, 0.3));\n",
              "      fill: #FFFFFF;\n",
              "    }\n",
              "  </style>\n",
              "\n",
              "      <script>\n",
              "        const buttonEl =\n",
              "          document.querySelector('#df-54221907-8846-4a8a-acfc-6fb3f2fe14e3 button.colab-df-convert');\n",
              "        buttonEl.style.display =\n",
              "          google.colab.kernel.accessAllowed ? 'block' : 'none';\n",
              "\n",
              "        async function convertToInteractive(key) {\n",
              "          const element = document.querySelector('#df-54221907-8846-4a8a-acfc-6fb3f2fe14e3');\n",
              "          const dataTable =\n",
              "            await google.colab.kernel.invokeFunction('convertToInteractive',\n",
              "                                                     [key], {});\n",
              "          if (!dataTable) return;\n",
              "\n",
              "          const docLinkHtml = 'Like what you see? Visit the ' +\n",
              "            '<a target=\"_blank\" href=https://colab.research.google.com/notebooks/data_table.ipynb>data table notebook</a>'\n",
              "            + ' to learn more about interactive tables.';\n",
              "          element.innerHTML = '';\n",
              "          dataTable['output_type'] = 'display_data';\n",
              "          await google.colab.output.renderOutput(dataTable, element);\n",
              "          const docLink = document.createElement('div');\n",
              "          docLink.innerHTML = docLinkHtml;\n",
              "          element.appendChild(docLink);\n",
              "        }\n",
              "      </script>\n",
              "    </div>\n",
              "  </div>\n",
              "  "
            ]
          },
          "metadata": {},
          "execution_count": 126
        }
      ]
    },
    {
      "cell_type": "code",
      "source": [
        "# business quarters frequency\n",
        "df.resample(rule='BQS').min()"
      ],
      "metadata": {
        "colab": {
          "base_uri": "https://localhost:8080/",
          "height": 237
        },
        "id": "XMjD3_FsuTqr",
        "outputId": "ebd2bb75-44bf-491d-e8b6-c77a5e62d2e9"
      },
      "execution_count": 127,
      "outputs": [
        {
          "output_type": "execute_result",
          "data": {
            "text/plain": [
              "                  Open        High         Low       Close   Adj Close  \\\n",
              "Date                                                                     \n",
              "2021-07-01  238.240005  243.666672  236.283340  243.389999  243.389999   \n",
              "2021-10-01  258.733337  260.260010  254.529999  258.406677  258.406677   \n",
              "2022-01-03  233.463333  266.899994  233.333328  254.679993  254.679993   \n",
              "2022-04-01  207.949997  217.973328  206.856674  209.386673  209.386673   \n",
              "2022-07-01  223.000000  230.229996  216.166672  227.263336  227.263336   \n",
              "\n",
              "              Volume  \n",
              "Date                  \n",
              "2021-07-01  35842500  \n",
              "2021-10-01  35042700  \n",
              "2022-01-03  48992700  \n",
              "2022-04-01  49847700  \n",
              "2022-07-01  41728500  "
            ],
            "text/html": [
              "\n",
              "  <div id=\"df-356f82c8-bde4-4d8d-8cb6-d2f905c6656f\">\n",
              "    <div class=\"colab-df-container\">\n",
              "      <div>\n",
              "<style scoped>\n",
              "    .dataframe tbody tr th:only-of-type {\n",
              "        vertical-align: middle;\n",
              "    }\n",
              "\n",
              "    .dataframe tbody tr th {\n",
              "        vertical-align: top;\n",
              "    }\n",
              "\n",
              "    .dataframe thead th {\n",
              "        text-align: right;\n",
              "    }\n",
              "</style>\n",
              "<table border=\"1\" class=\"dataframe\">\n",
              "  <thead>\n",
              "    <tr style=\"text-align: right;\">\n",
              "      <th></th>\n",
              "      <th>Open</th>\n",
              "      <th>High</th>\n",
              "      <th>Low</th>\n",
              "      <th>Close</th>\n",
              "      <th>Adj Close</th>\n",
              "      <th>Volume</th>\n",
              "    </tr>\n",
              "    <tr>\n",
              "      <th>Date</th>\n",
              "      <th></th>\n",
              "      <th></th>\n",
              "      <th></th>\n",
              "      <th></th>\n",
              "      <th></th>\n",
              "      <th></th>\n",
              "    </tr>\n",
              "  </thead>\n",
              "  <tbody>\n",
              "    <tr>\n",
              "      <th>2021-07-01</th>\n",
              "      <td>238.240005</td>\n",
              "      <td>243.666672</td>\n",
              "      <td>236.283340</td>\n",
              "      <td>243.389999</td>\n",
              "      <td>243.389999</td>\n",
              "      <td>35842500</td>\n",
              "    </tr>\n",
              "    <tr>\n",
              "      <th>2021-10-01</th>\n",
              "      <td>258.733337</td>\n",
              "      <td>260.260010</td>\n",
              "      <td>254.529999</td>\n",
              "      <td>258.406677</td>\n",
              "      <td>258.406677</td>\n",
              "      <td>35042700</td>\n",
              "    </tr>\n",
              "    <tr>\n",
              "      <th>2022-01-03</th>\n",
              "      <td>233.463333</td>\n",
              "      <td>266.899994</td>\n",
              "      <td>233.333328</td>\n",
              "      <td>254.679993</td>\n",
              "      <td>254.679993</td>\n",
              "      <td>48992700</td>\n",
              "    </tr>\n",
              "    <tr>\n",
              "      <th>2022-04-01</th>\n",
              "      <td>207.949997</td>\n",
              "      <td>217.973328</td>\n",
              "      <td>206.856674</td>\n",
              "      <td>209.386673</td>\n",
              "      <td>209.386673</td>\n",
              "      <td>49847700</td>\n",
              "    </tr>\n",
              "    <tr>\n",
              "      <th>2022-07-01</th>\n",
              "      <td>223.000000</td>\n",
              "      <td>230.229996</td>\n",
              "      <td>216.166672</td>\n",
              "      <td>227.263336</td>\n",
              "      <td>227.263336</td>\n",
              "      <td>41728500</td>\n",
              "    </tr>\n",
              "  </tbody>\n",
              "</table>\n",
              "</div>\n",
              "      <button class=\"colab-df-convert\" onclick=\"convertToInteractive('df-356f82c8-bde4-4d8d-8cb6-d2f905c6656f')\"\n",
              "              title=\"Convert this dataframe to an interactive table.\"\n",
              "              style=\"display:none;\">\n",
              "        \n",
              "  <svg xmlns=\"http://www.w3.org/2000/svg\" height=\"24px\"viewBox=\"0 0 24 24\"\n",
              "       width=\"24px\">\n",
              "    <path d=\"M0 0h24v24H0V0z\" fill=\"none\"/>\n",
              "    <path d=\"M18.56 5.44l.94 2.06.94-2.06 2.06-.94-2.06-.94-.94-2.06-.94 2.06-2.06.94zm-11 1L8.5 8.5l.94-2.06 2.06-.94-2.06-.94L8.5 2.5l-.94 2.06-2.06.94zm10 10l.94 2.06.94-2.06 2.06-.94-2.06-.94-.94-2.06-.94 2.06-2.06.94z\"/><path d=\"M17.41 7.96l-1.37-1.37c-.4-.4-.92-.59-1.43-.59-.52 0-1.04.2-1.43.59L10.3 9.45l-7.72 7.72c-.78.78-.78 2.05 0 2.83L4 21.41c.39.39.9.59 1.41.59.51 0 1.02-.2 1.41-.59l7.78-7.78 2.81-2.81c.8-.78.8-2.07 0-2.86zM5.41 20L4 18.59l7.72-7.72 1.47 1.35L5.41 20z\"/>\n",
              "  </svg>\n",
              "      </button>\n",
              "      \n",
              "  <style>\n",
              "    .colab-df-container {\n",
              "      display:flex;\n",
              "      flex-wrap:wrap;\n",
              "      gap: 12px;\n",
              "    }\n",
              "\n",
              "    .colab-df-convert {\n",
              "      background-color: #E8F0FE;\n",
              "      border: none;\n",
              "      border-radius: 50%;\n",
              "      cursor: pointer;\n",
              "      display: none;\n",
              "      fill: #1967D2;\n",
              "      height: 32px;\n",
              "      padding: 0 0 0 0;\n",
              "      width: 32px;\n",
              "    }\n",
              "\n",
              "    .colab-df-convert:hover {\n",
              "      background-color: #E2EBFA;\n",
              "      box-shadow: 0px 1px 2px rgba(60, 64, 67, 0.3), 0px 1px 3px 1px rgba(60, 64, 67, 0.15);\n",
              "      fill: #174EA6;\n",
              "    }\n",
              "\n",
              "    [theme=dark] .colab-df-convert {\n",
              "      background-color: #3B4455;\n",
              "      fill: #D2E3FC;\n",
              "    }\n",
              "\n",
              "    [theme=dark] .colab-df-convert:hover {\n",
              "      background-color: #434B5C;\n",
              "      box-shadow: 0px 1px 3px 1px rgba(0, 0, 0, 0.15);\n",
              "      filter: drop-shadow(0px 1px 2px rgba(0, 0, 0, 0.3));\n",
              "      fill: #FFFFFF;\n",
              "    }\n",
              "  </style>\n",
              "\n",
              "      <script>\n",
              "        const buttonEl =\n",
              "          document.querySelector('#df-356f82c8-bde4-4d8d-8cb6-d2f905c6656f button.colab-df-convert');\n",
              "        buttonEl.style.display =\n",
              "          google.colab.kernel.accessAllowed ? 'block' : 'none';\n",
              "\n",
              "        async function convertToInteractive(key) {\n",
              "          const element = document.querySelector('#df-356f82c8-bde4-4d8d-8cb6-d2f905c6656f');\n",
              "          const dataTable =\n",
              "            await google.colab.kernel.invokeFunction('convertToInteractive',\n",
              "                                                     [key], {});\n",
              "          if (!dataTable) return;\n",
              "\n",
              "          const docLinkHtml = 'Like what you see? Visit the ' +\n",
              "            '<a target=\"_blank\" href=https://colab.research.google.com/notebooks/data_table.ipynb>data table notebook</a>'\n",
              "            + ' to learn more about interactive tables.';\n",
              "          element.innerHTML = '';\n",
              "          dataTable['output_type'] = 'display_data';\n",
              "          await google.colab.output.renderOutput(dataTable, element);\n",
              "          const docLink = document.createElement('div');\n",
              "          docLink.innerHTML = docLinkHtml;\n",
              "          element.appendChild(docLink);\n",
              "        }\n",
              "      </script>\n",
              "    </div>\n",
              "  </div>\n",
              "  "
            ]
          },
          "metadata": {},
          "execution_count": 127
        }
      ]
    },
    {
      "cell_type": "code",
      "source": [
        "#monthly freq\n",
        "df.resample(rule='M').mean()['Volume'].plot(kind='bar')"
      ],
      "metadata": {
        "colab": {
          "base_uri": "https://localhost:8080/",
          "height": 403
        },
        "id": "5-ErAWCUueUe",
        "outputId": "ec99ba8f-0d51-4127-82f3-8cbf6c6c12d9"
      },
      "execution_count": 129,
      "outputs": [
        {
          "output_type": "execute_result",
          "data": {
            "text/plain": [
              "<matplotlib.axes._subplots.AxesSubplot at 0x7f10cf74c510>"
            ]
          },
          "metadata": {},
          "execution_count": 129
        },
        {
          "output_type": "display_data",
          "data": {
            "text/plain": [
              "<Figure size 432x288 with 1 Axes>"
            ],
            "image/png": "[encoded data removed]"
          },
          "metadata": {
            "needs_background": "light"
          }
        }
      ]
    },
    {
      "cell_type": "markdown",
      "source": [
        "# Rolling \n",
        "* shows mean,min or stats for the first rolling numbers for that column"
      ],
      "metadata": {
        "id": "2r603ojTwcsO"
      }
    },
    {
      "cell_type": "code",
      "source": [
        "df.head()"
      ],
      "metadata": {
        "colab": {
          "base_uri": "https://localhost:8080/",
          "height": 237
        },
        "id": "Drhb5lrtwySs",
        "outputId": "38e2ff00-cc58-45bb-c20a-8417e4f9e444"
      },
      "execution_count": 132,
      "outputs": [
        {
          "output_type": "execute_result",
          "data": {
            "text/plain": [
              "                  Open        High         Low       Close   Adj Close  \\\n",
              "Date                                                                     \n",
              "2021-08-30  238.240005  243.666672  237.576660  243.636673  243.636673   \n",
              "2021-08-31  244.333328  246.796661  242.146667  245.240005  245.240005   \n",
              "2021-09-01  244.693329  247.330002  243.756668  244.696671  244.696671   \n",
              "2021-09-02  244.833328  246.990005  243.513336  244.130005  244.130005   \n",
              "2021-09-03  244.083328  244.666672  241.399994  244.523331  244.523331   \n",
              "\n",
              "              Volume  \n",
              "Date                  \n",
              "2021-08-30  55812600  \n",
              "2021-08-31  62566200  \n",
              "2021-09-01  39612900  \n",
              "2021-09-02  38331900  \n",
              "2021-09-03  45738300  "
            ],
            "text/html": [
              "\n",
              "  <div id=\"df-e1939dce-6453-421d-bfc2-50a8579db34e\">\n",
              "    <div class=\"colab-df-container\">\n",
              "      <div>\n",
              "<style scoped>\n",
              "    .dataframe tbody tr th:only-of-type {\n",
              "        vertical-align: middle;\n",
              "    }\n",
              "\n",
              "    .dataframe tbody tr th {\n",
              "        vertical-align: top;\n",
              "    }\n",
              "\n",
              "    .dataframe thead th {\n",
              "        text-align: right;\n",
              "    }\n",
              "</style>\n",
              "<table border=\"1\" class=\"dataframe\">\n",
              "  <thead>\n",
              "    <tr style=\"text-align: right;\">\n",
              "      <th></th>\n",
              "      <th>Open</th>\n",
              "      <th>High</th>\n",
              "      <th>Low</th>\n",
              "      <th>Close</th>\n",
              "      <th>Adj Close</th>\n",
              "      <th>Volume</th>\n",
              "    </tr>\n",
              "    <tr>\n",
              "      <th>Date</th>\n",
              "      <th></th>\n",
              "      <th></th>\n",
              "      <th></th>\n",
              "      <th></th>\n",
              "      <th></th>\n",
              "      <th></th>\n",
              "    </tr>\n",
              "  </thead>\n",
              "  <tbody>\n",
              "    <tr>\n",
              "      <th>2021-08-30</th>\n",
              "      <td>238.240005</td>\n",
              "      <td>243.666672</td>\n",
              "      <td>237.576660</td>\n",
              "      <td>243.636673</td>\n",
              "      <td>243.636673</td>\n",
              "      <td>55812600</td>\n",
              "    </tr>\n",
              "    <tr>\n",
              "      <th>2021-08-31</th>\n",
              "      <td>244.333328</td>\n",
              "      <td>246.796661</td>\n",
              "      <td>242.146667</td>\n",
              "      <td>245.240005</td>\n",
              "      <td>245.240005</td>\n",
              "      <td>62566200</td>\n",
              "    </tr>\n",
              "    <tr>\n",
              "      <th>2021-09-01</th>\n",
              "      <td>244.693329</td>\n",
              "      <td>247.330002</td>\n",
              "      <td>243.756668</td>\n",
              "      <td>244.696671</td>\n",
              "      <td>244.696671</td>\n",
              "      <td>39612900</td>\n",
              "    </tr>\n",
              "    <tr>\n",
              "      <th>2021-09-02</th>\n",
              "      <td>244.833328</td>\n",
              "      <td>246.990005</td>\n",
              "      <td>243.513336</td>\n",
              "      <td>244.130005</td>\n",
              "      <td>244.130005</td>\n",
              "      <td>38331900</td>\n",
              "    </tr>\n",
              "    <tr>\n",
              "      <th>2021-09-03</th>\n",
              "      <td>244.083328</td>\n",
              "      <td>244.666672</td>\n",
              "      <td>241.399994</td>\n",
              "      <td>244.523331</td>\n",
              "      <td>244.523331</td>\n",
              "      <td>45738300</td>\n",
              "    </tr>\n",
              "  </tbody>\n",
              "</table>\n",
              "</div>\n",
              "      <button class=\"colab-df-convert\" onclick=\"convertToInteractive('df-e1939dce-6453-421d-bfc2-50a8579db34e')\"\n",
              "              title=\"Convert this dataframe to an interactive table.\"\n",
              "              style=\"display:none;\">\n",
              "        \n",
              "  <svg xmlns=\"http://www.w3.org/2000/svg\" height=\"24px\"viewBox=\"0 0 24 24\"\n",
              "       width=\"24px\">\n",
              "    <path d=\"M0 0h24v24H0V0z\" fill=\"none\"/>\n",
              "    <path d=\"M18.56 5.44l.94 2.06.94-2.06 2.06-.94-2.06-.94-.94-2.06-.94 2.06-2.06.94zm-11 1L8.5 8.5l.94-2.06 2.06-.94-2.06-.94L8.5 2.5l-.94 2.06-2.06.94zm10 10l.94 2.06.94-2.06 2.06-.94-2.06-.94-.94-2.06-.94 2.06-2.06.94z\"/><path d=\"M17.41 7.96l-1.37-1.37c-.4-.4-.92-.59-1.43-.59-.52 0-1.04.2-1.43.59L10.3 9.45l-7.72 7.72c-.78.78-.78 2.05 0 2.83L4 21.41c.39.39.9.59 1.41.59.51 0 1.02-.2 1.41-.59l7.78-7.78 2.81-2.81c.8-.78.8-2.07 0-2.86zM5.41 20L4 18.59l7.72-7.72 1.47 1.35L5.41 20z\"/>\n",
              "  </svg>\n",
              "      </button>\n",
              "      \n",
              "  <style>\n",
              "    .colab-df-container {\n",
              "      display:flex;\n",
              "      flex-wrap:wrap;\n",
              "      gap: 12px;\n",
              "    }\n",
              "\n",
              "    .colab-df-convert {\n",
              "      background-color: #E8F0FE;\n",
              "      border: none;\n",
              "      border-radius: 50%;\n",
              "      cursor: pointer;\n",
              "      display: none;\n",
              "      fill: #1967D2;\n",
              "      height: 32px;\n",
              "      padding: 0 0 0 0;\n",
              "      width: 32px;\n",
              "    }\n",
              "\n",
              "    .colab-df-convert:hover {\n",
              "      background-color: #E2EBFA;\n",
              "      box-shadow: 0px 1px 2px rgba(60, 64, 67, 0.3), 0px 1px 3px 1px rgba(60, 64, 67, 0.15);\n",
              "      fill: #174EA6;\n",
              "    }\n",
              "\n",
              "    [theme=dark] .colab-df-convert {\n",
              "      background-color: #3B4455;\n",
              "      fill: #D2E3FC;\n",
              "    }\n",
              "\n",
              "    [theme=dark] .colab-df-convert:hover {\n",
              "      background-color: #434B5C;\n",
              "      box-shadow: 0px 1px 3px 1px rgba(0, 0, 0, 0.15);\n",
              "      filter: drop-shadow(0px 1px 2px rgba(0, 0, 0, 0.3));\n",
              "      fill: #FFFFFF;\n",
              "    }\n",
              "  </style>\n",
              "\n",
              "      <script>\n",
              "        const buttonEl =\n",
              "          document.querySelector('#df-e1939dce-6453-421d-bfc2-50a8579db34e button.colab-df-convert');\n",
              "        buttonEl.style.display =\n",
              "          google.colab.kernel.accessAllowed ? 'block' : 'none';\n",
              "\n",
              "        async function convertToInteractive(key) {\n",
              "          const element = document.querySelector('#df-e1939dce-6453-421d-bfc2-50a8579db34e');\n",
              "          const dataTable =\n",
              "            await google.colab.kernel.invokeFunction('convertToInteractive',\n",
              "                                                     [key], {});\n",
              "          if (!dataTable) return;\n",
              "\n",
              "          const docLinkHtml = 'Like what you see? Visit the ' +\n",
              "            '<a target=\"_blank\" href=https://colab.research.google.com/notebooks/data_table.ipynb>data table notebook</a>'\n",
              "            + ' to learn more about interactive tables.';\n",
              "          element.innerHTML = '';\n",
              "          dataTable['output_type'] = 'display_data';\n",
              "          await google.colab.output.renderOutput(dataTable, element);\n",
              "          const docLink = document.createElement('div');\n",
              "          docLink.innerHTML = docLinkHtml;\n",
              "          element.appendChild(docLink);\n",
              "        }\n",
              "      </script>\n",
              "    </div>\n",
              "  </div>\n",
              "  "
            ]
          },
          "metadata": {},
          "execution_count": 132
        }
      ]
    },
    {
      "cell_type": "code",
      "source": [
        "mean1 = (238.240005+244.333328)/2\n",
        "print(mean1)\n",
        "df['Open'].rolling(2).mean()"
      ],
      "metadata": {
        "colab": {
          "base_uri": "https://localhost:8080/"
        },
        "id": "7TqhGlOvu8Pz",
        "outputId": "ae4148a0-651b-4ec3-dc28-fffaef7da485"
      },
      "execution_count": 134,
      "outputs": [
        {
          "output_type": "stream",
          "name": "stdout",
          "text": [
            "241.2866665\n"
          ]
        },
        {
          "output_type": "execute_result",
          "data": {
            "text/plain": [
              "Date\n",
              "2021-08-30           NaN\n",
              "2021-08-31    241.286666\n",
              "2021-09-01    244.513329\n",
              "2021-09-02    244.763329\n",
              "2021-09-03    244.458328\n",
              "                 ...    \n",
              "2022-08-23    291.683335\n",
              "2022-08-24    294.508332\n",
              "2022-08-25    299.961655\n",
              "2022-08-26    299.894989\n",
              "2022-08-29    290.129990\n",
              "Name: Open, Length: 252, dtype: float64"
            ]
          },
          "metadata": {},
          "execution_count": 134
        }
      ]
    },
    {
      "cell_type": "code",
      "source": [
        "df['Open:30 days rolling']= df['Open'].rolling(30).mean()"
      ],
      "metadata": {
        "id": "Hkjsp7vewsLo"
      },
      "execution_count": 135,
      "outputs": []
    },
    {
      "cell_type": "code",
      "source": [
        "df.head()"
      ],
      "metadata": {
        "colab": {
          "base_uri": "https://localhost:8080/",
          "height": 237
        },
        "id": "G7f5NvO0yR-Y",
        "outputId": "6e41b800-4eec-4562-e5f8-ae3602049f5d"
      },
      "execution_count": 136,
      "outputs": [
        {
          "output_type": "execute_result",
          "data": {
            "text/plain": [
              "                  Open        High         Low       Close   Adj Close  \\\n",
              "Date                                                                     \n",
              "2021-08-30  238.240005  243.666672  237.576660  243.636673  243.636673   \n",
              "2021-08-31  244.333328  246.796661  242.146667  245.240005  245.240005   \n",
              "2021-09-01  244.693329  247.330002  243.756668  244.696671  244.696671   \n",
              "2021-09-02  244.833328  246.990005  243.513336  244.130005  244.130005   \n",
              "2021-09-03  244.083328  244.666672  241.399994  244.523331  244.523331   \n",
              "\n",
              "              Volume  Open:30 days rolling  \n",
              "Date                                        \n",
              "2021-08-30  55812600                   NaN  \n",
              "2021-08-31  62566200                   NaN  \n",
              "2021-09-01  39612900                   NaN  \n",
              "2021-09-02  38331900                   NaN  \n",
              "2021-09-03  45738300                   NaN  "
            ],
            "text/html": [
              "\n",
              "  <div id=\"df-c6724968-05f0-4fbd-9023-6ff40499cb96\">\n",
              "    <div class=\"colab-df-container\">\n",
              "      <div>\n",
              "<style scoped>\n",
              "    .dataframe tbody tr th:only-of-type {\n",
              "        vertical-align: middle;\n",
              "    }\n",
              "\n",
              "    .dataframe tbody tr th {\n",
              "        vertical-align: top;\n",
              "    }\n",
              "\n",
              "    .dataframe thead th {\n",
              "        text-align: right;\n",
              "    }\n",
              "</style>\n",
              "<table border=\"1\" class=\"dataframe\">\n",
              "  <thead>\n",
              "    <tr style=\"text-align: right;\">\n",
              "      <th></th>\n",
              "      <th>Open</th>\n",
              "      <th>High</th>\n",
              "      <th>Low</th>\n",
              "      <th>Close</th>\n",
              "      <th>Adj Close</th>\n",
              "      <th>Volume</th>\n",
              "      <th>Open:30 days rolling</th>\n",
              "    </tr>\n",
              "    <tr>\n",
              "      <th>Date</th>\n",
              "      <th></th>\n",
              "      <th></th>\n",
              "      <th></th>\n",
              "      <th></th>\n",
              "      <th></th>\n",
              "      <th></th>\n",
              "      <th></th>\n",
              "    </tr>\n",
              "  </thead>\n",
              "  <tbody>\n",
              "    <tr>\n",
              "      <th>2021-08-30</th>\n",
              "      <td>238.240005</td>\n",
              "      <td>243.666672</td>\n",
              "      <td>237.576660</td>\n",
              "      <td>243.636673</td>\n",
              "      <td>243.636673</td>\n",
              "      <td>55812600</td>\n",
              "      <td>NaN</td>\n",
              "    </tr>\n",
              "    <tr>\n",
              "      <th>2021-08-31</th>\n",
              "      <td>244.333328</td>\n",
              "      <td>246.796661</td>\n",
              "      <td>242.146667</td>\n",
              "      <td>245.240005</td>\n",
              "      <td>245.240005</td>\n",
              "      <td>62566200</td>\n",
              "      <td>NaN</td>\n",
              "    </tr>\n",
              "    <tr>\n",
              "      <th>2021-09-01</th>\n",
              "      <td>244.693329</td>\n",
              "      <td>247.330002</td>\n",
              "      <td>243.756668</td>\n",
              "      <td>244.696671</td>\n",
              "      <td>244.696671</td>\n",
              "      <td>39612900</td>\n",
              "      <td>NaN</td>\n",
              "    </tr>\n",
              "    <tr>\n",
              "      <th>2021-09-02</th>\n",
              "      <td>244.833328</td>\n",
              "      <td>246.990005</td>\n",
              "      <td>243.513336</td>\n",
              "      <td>244.130005</td>\n",
              "      <td>244.130005</td>\n",
              "      <td>38331900</td>\n",
              "      <td>NaN</td>\n",
              "    </tr>\n",
              "    <tr>\n",
              "      <th>2021-09-03</th>\n",
              "      <td>244.083328</td>\n",
              "      <td>244.666672</td>\n",
              "      <td>241.399994</td>\n",
              "      <td>244.523331</td>\n",
              "      <td>244.523331</td>\n",
              "      <td>45738300</td>\n",
              "      <td>NaN</td>\n",
              "    </tr>\n",
              "  </tbody>\n",
              "</table>\n",
              "</div>\n",
              "      <button class=\"colab-df-convert\" onclick=\"convertToInteractive('df-c6724968-05f0-4fbd-9023-6ff40499cb96')\"\n",
              "              title=\"Convert this dataframe to an interactive table.\"\n",
              "              style=\"display:none;\">\n",
              "        \n",
              "  <svg xmlns=\"http://www.w3.org/2000/svg\" height=\"24px\"viewBox=\"0 0 24 24\"\n",
              "       width=\"24px\">\n",
              "    <path d=\"M0 0h24v24H0V0z\" fill=\"none\"/>\n",
              "    <path d=\"M18.56 5.44l.94 2.06.94-2.06 2.06-.94-2.06-.94-.94-2.06-.94 2.06-2.06.94zm-11 1L8.5 8.5l.94-2.06 2.06-.94-2.06-.94L8.5 2.5l-.94 2.06-2.06.94zm10 10l.94 2.06.94-2.06 2.06-.94-2.06-.94-.94-2.06-.94 2.06-2.06.94z\"/><path d=\"M17.41 7.96l-1.37-1.37c-.4-.4-.92-.59-1.43-.59-.52 0-1.04.2-1.43.59L10.3 9.45l-7.72 7.72c-.78.78-.78 2.05 0 2.83L4 21.41c.39.39.9.59 1.41.59.51 0 1.02-.2 1.41-.59l7.78-7.78 2.81-2.81c.8-.78.8-2.07 0-2.86zM5.41 20L4 18.59l7.72-7.72 1.47 1.35L5.41 20z\"/>\n",
              "  </svg>\n",
              "      </button>\n",
              "      \n",
              "  <style>\n",
              "    .colab-df-container {\n",
              "      display:flex;\n",
              "      flex-wrap:wrap;\n",
              "      gap: 12px;\n",
              "    }\n",
              "\n",
              "    .colab-df-convert {\n",
              "      background-color: #E8F0FE;\n",
              "      border: none;\n",
              "      border-radius: 50%;\n",
              "      cursor: pointer;\n",
              "      display: none;\n",
              "      fill: #1967D2;\n",
              "      height: 32px;\n",
              "      padding: 0 0 0 0;\n",
              "      width: 32px;\n",
              "    }\n",
              "\n",
              "    .colab-df-convert:hover {\n",
              "      background-color: #E2EBFA;\n",
              "      box-shadow: 0px 1px 2px rgba(60, 64, 67, 0.3), 0px 1px 3px 1px rgba(60, 64, 67, 0.15);\n",
              "      fill: #174EA6;\n",
              "    }\n",
              "\n",
              "    [theme=dark] .colab-df-convert {\n",
              "      background-color: #3B4455;\n",
              "      fill: #D2E3FC;\n",
              "    }\n",
              "\n",
              "    [theme=dark] .colab-df-convert:hover {\n",
              "      background-color: #434B5C;\n",
              "      box-shadow: 0px 1px 3px 1px rgba(0, 0, 0, 0.15);\n",
              "      filter: drop-shadow(0px 1px 2px rgba(0, 0, 0, 0.3));\n",
              "      fill: #FFFFFF;\n",
              "    }\n",
              "  </style>\n",
              "\n",
              "      <script>\n",
              "        const buttonEl =\n",
              "          document.querySelector('#df-c6724968-05f0-4fbd-9023-6ff40499cb96 button.colab-df-convert');\n",
              "        buttonEl.style.display =\n",
              "          google.colab.kernel.accessAllowed ? 'block' : 'none';\n",
              "\n",
              "        async function convertToInteractive(key) {\n",
              "          const element = document.querySelector('#df-c6724968-05f0-4fbd-9023-6ff40499cb96');\n",
              "          const dataTable =\n",
              "            await google.colab.kernel.invokeFunction('convertToInteractive',\n",
              "                                                     [key], {});\n",
              "          if (!dataTable) return;\n",
              "\n",
              "          const docLinkHtml = 'Like what you see? Visit the ' +\n",
              "            '<a target=\"_blank\" href=https://colab.research.google.com/notebooks/data_table.ipynb>data table notebook</a>'\n",
              "            + ' to learn more about interactive tables.';\n",
              "          element.innerHTML = '';\n",
              "          dataTable['output_type'] = 'display_data';\n",
              "          await google.colab.output.renderOutput(dataTable, element);\n",
              "          const docLink = document.createElement('div');\n",
              "          docLink.innerHTML = docLinkHtml;\n",
              "          element.appendChild(docLink);\n",
              "        }\n",
              "      </script>\n",
              "    </div>\n",
              "  </div>\n",
              "  "
            ]
          },
          "metadata": {},
          "execution_count": 136
        }
      ]
    },
    {
      "cell_type": "code",
      "source": [
        "df[['Open','Open:30 days rolling']].plot(figsize=(12,5)) # the orange line is the smoothened version of the blue line, this is an exaple of smoothening(Moving Averages)\n",
        "#smoothening is done to mitigate the flactuations of stock prices for a certain time period, hence smoothens the curve"
      ],
      "metadata": {
        "colab": {
          "base_uri": "https://localhost:8080/",
          "height": 344
        },
        "id": "EH-WAIAhyUW4",
        "outputId": "282f76b0-5ba4-4993-cd62-aba3162dbe05"
      },
      "execution_count": 139,
      "outputs": [
        {
          "output_type": "execute_result",
          "data": {
            "text/plain": [
              "<matplotlib.axes._subplots.AxesSubplot at 0x7f10cf5230d0>"
            ]
          },
          "metadata": {},
          "execution_count": 139
        },
        {
          "output_type": "display_data",
          "data": {
            "text/plain": [
              "<Figure size 864x360 with 1 Axes>"
            ],
            "image/png": "[encoded data removed]"
          },
          "metadata": {
            "needs_background": "light"
          }
        }
      ]
    },
    {
      "cell_type": "code",
      "source": [],
      "metadata": {
        "id": "KlR5SD3byexs"
      },
      "execution_count": null,
      "outputs": []
    }
  ]
}